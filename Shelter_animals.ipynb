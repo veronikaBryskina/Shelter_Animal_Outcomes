{
 "cells": [
  {
   "cell_type": "markdown",
   "id": "3bea7673-1876-4a27-9cae-d752d3950629",
   "metadata": {},
   "source": [
    "# Shelter Animal Outcomes"
   ]
  },
  {
   "cell_type": "markdown",
   "id": "140c0217-3fb7-40a9-9d8c-62e8c699898c",
   "metadata": {},
   "source": [
    "> [Kaggle](https://www.kaggle.com/competitions/shelter-animal-outcomes/overview/description) this dataset is collected from the data of animal shelters in the USA and our goal is to try to understand what can await the animals that end up in the shelter"
   ]
  },
  {
   "cell_type": "markdown",
   "id": "6ea9b8e9-3941-4aa9-941f-6b1b122c58ad",
   "metadata": {},
   "source": [
    "## Load Data"
   ]
  },
  {
   "cell_type": "code",
   "execution_count": 264,
   "id": "120e39c2-0aef-4cf8-bd07-3c1ec79f6e58",
   "metadata": {
    "tags": []
   },
   "outputs": [],
   "source": [
    "import pandas as pd\n",
    "import numpy as np\n",
    "import matplotlib.pyplot as plt\n",
    "#from matplotlib.colors import ListedColormap\n",
    "#import re\n",
    "import seaborn as sns\n",
    "%matplotlib inline\n",
    "import pickle\n",
    "\n",
    "from sklearn.preprocessing import LabelEncoder, OneHotEncoder\n",
    "from sklearn.feature_extraction.text import CountVectorizer\n",
    "\n",
    "#from collections import Counter\n",
    "from sklearn.model_selection import train_test_split\n",
    "#from sklearn.experimental import enable_iterative_imputer\n",
    "#from sklearn.impute import IterativeImputer\n",
    "#from sklearn.feature_selection import VarianceThreshold\n",
    "#from sklearn.preprocessing import MinMaxScaler\n",
    "#from sklearn.preprocessing import Normalizer\n",
    "#from sklearn.preprocessing import KBinsDiscretizer\n",
    "from sklearn.metrics import accuracy_score, log_loss\n",
    "from sklearn.neighbors import KNeighborsClassifier\n",
    "from sklearn.svm import LinearSVC\n",
    "from sklearn.tree import DecisionTreeClassifier, ExtraTreeClassifier\n",
    "from sklearn.naive_bayes import GaussianNB, BernoulliNB\n",
    "from sklearn.linear_model import LogisticRegression, LogisticRegressionCV\n",
    "from sklearn.metrics import confusion_matrix\n",
    "from sklearn.metrics import classification_report\n",
    "from sklearn.metrics import ConfusionMatrixDisplay\n",
    "from sklearn.metrics import plot_roc_curve\n",
    "\n",
    "from sklearn.model_selection import RandomizedSearchCV\n",
    "from sklearn.svm import SVC\n",
    "from sklearn.tree import DecisionTreeClassifier\n",
    "from sklearn.ensemble import RandomForestClassifier, AdaBoostClassifier, GradientBoostingClassifier\n",
    "from sklearn.discriminant_analysis import LinearDiscriminantAnalysis, QuadraticDiscriminantAnalysis\n",
    "from sklearn.naive_bayes import GaussianNB, CategoricalNB, BernoulliNB"
   ]
  },
  {
   "cell_type": "code",
   "execution_count": 265,
   "id": "f011a005-35f5-46f1-a29f-2a13582f1fca",
   "metadata": {},
   "outputs": [],
   "source": [
    "test = pd.read_csv('test.csv', delimiter=',')\n",
    "train = pd.read_csv('train.csv', delimiter=',')"
   ]
  },
  {
   "cell_type": "code",
   "execution_count": 271,
   "id": "772a3653-012f-424e-90ec-6a98171e298f",
   "metadata": {},
   "outputs": [
    {
     "data": {
      "text/html": [
       "<div>\n",
       "<style scoped>\n",
       "    .dataframe tbody tr th:only-of-type {\n",
       "        vertical-align: middle;\n",
       "    }\n",
       "\n",
       "    .dataframe tbody tr th {\n",
       "        vertical-align: top;\n",
       "    }\n",
       "\n",
       "    .dataframe thead th {\n",
       "        text-align: right;\n",
       "    }\n",
       "</style>\n",
       "<table border=\"1\" class=\"dataframe\">\n",
       "  <thead>\n",
       "    <tr style=\"text-align: right;\">\n",
       "      <th></th>\n",
       "      <th>AnimalID</th>\n",
       "      <th>Name</th>\n",
       "      <th>DateTime</th>\n",
       "      <th>OutcomeType</th>\n",
       "      <th>OutcomeSubtype</th>\n",
       "      <th>AnimalType</th>\n",
       "      <th>SexuponOutcome</th>\n",
       "      <th>AgeuponOutcome</th>\n",
       "      <th>Breed</th>\n",
       "      <th>Color</th>\n",
       "    </tr>\n",
       "  </thead>\n",
       "  <tbody>\n",
       "    <tr>\n",
       "      <th>0</th>\n",
       "      <td>A671945</td>\n",
       "      <td>Hambone</td>\n",
       "      <td>2014-02-12 18:22:00</td>\n",
       "      <td>Return_to_owner</td>\n",
       "      <td>NaN</td>\n",
       "      <td>Dog</td>\n",
       "      <td>Neutered Male</td>\n",
       "      <td>1 year</td>\n",
       "      <td>Shetland Sheepdog Mix</td>\n",
       "      <td>Brown/White</td>\n",
       "    </tr>\n",
       "    <tr>\n",
       "      <th>1</th>\n",
       "      <td>A656520</td>\n",
       "      <td>Emily</td>\n",
       "      <td>2013-10-13 12:44:00</td>\n",
       "      <td>Euthanasia</td>\n",
       "      <td>Suffering</td>\n",
       "      <td>Cat</td>\n",
       "      <td>Spayed Female</td>\n",
       "      <td>1 year</td>\n",
       "      <td>Domestic Shorthair Mix</td>\n",
       "      <td>Cream Tabby</td>\n",
       "    </tr>\n",
       "    <tr>\n",
       "      <th>2</th>\n",
       "      <td>A686464</td>\n",
       "      <td>Pearce</td>\n",
       "      <td>2015-01-31 12:28:00</td>\n",
       "      <td>Adoption</td>\n",
       "      <td>Foster</td>\n",
       "      <td>Dog</td>\n",
       "      <td>Neutered Male</td>\n",
       "      <td>2 years</td>\n",
       "      <td>Pit Bull Mix</td>\n",
       "      <td>Blue/White</td>\n",
       "    </tr>\n",
       "    <tr>\n",
       "      <th>3</th>\n",
       "      <td>A683430</td>\n",
       "      <td>NaN</td>\n",
       "      <td>2014-07-11 19:09:00</td>\n",
       "      <td>Transfer</td>\n",
       "      <td>Partner</td>\n",
       "      <td>Cat</td>\n",
       "      <td>Intact Male</td>\n",
       "      <td>3 weeks</td>\n",
       "      <td>Domestic Shorthair Mix</td>\n",
       "      <td>Blue Cream</td>\n",
       "    </tr>\n",
       "    <tr>\n",
       "      <th>4</th>\n",
       "      <td>A667013</td>\n",
       "      <td>NaN</td>\n",
       "      <td>2013-11-15 12:52:00</td>\n",
       "      <td>Transfer</td>\n",
       "      <td>Partner</td>\n",
       "      <td>Dog</td>\n",
       "      <td>Neutered Male</td>\n",
       "      <td>2 years</td>\n",
       "      <td>Lhasa Apso/Miniature Poodle</td>\n",
       "      <td>Tan</td>\n",
       "    </tr>\n",
       "  </tbody>\n",
       "</table>\n",
       "</div>"
      ],
      "text/plain": [
       "  AnimalID     Name             DateTime      OutcomeType OutcomeSubtype  \\\n",
       "0  A671945  Hambone  2014-02-12 18:22:00  Return_to_owner            NaN   \n",
       "1  A656520    Emily  2013-10-13 12:44:00       Euthanasia      Suffering   \n",
       "2  A686464   Pearce  2015-01-31 12:28:00         Adoption         Foster   \n",
       "3  A683430      NaN  2014-07-11 19:09:00         Transfer        Partner   \n",
       "4  A667013      NaN  2013-11-15 12:52:00         Transfer        Partner   \n",
       "\n",
       "  AnimalType SexuponOutcome AgeuponOutcome                        Breed  \\\n",
       "0        Dog  Neutered Male         1 year        Shetland Sheepdog Mix   \n",
       "1        Cat  Spayed Female         1 year       Domestic Shorthair Mix   \n",
       "2        Dog  Neutered Male        2 years                 Pit Bull Mix   \n",
       "3        Cat    Intact Male        3 weeks       Domestic Shorthair Mix   \n",
       "4        Dog  Neutered Male        2 years  Lhasa Apso/Miniature Poodle   \n",
       "\n",
       "         Color  \n",
       "0  Brown/White  \n",
       "1  Cream Tabby  \n",
       "2   Blue/White  \n",
       "3   Blue Cream  \n",
       "4          Tan  "
      ]
     },
     "execution_count": 271,
     "metadata": {},
     "output_type": "execute_result"
    }
   ],
   "source": [
    "train.head()"
   ]
  },
  {
   "cell_type": "code",
   "execution_count": 272,
   "id": "f053025d-9c67-42b2-af98-0b9f044751bc",
   "metadata": {},
   "outputs": [
    {
     "data": {
      "text/html": [
       "<div>\n",
       "<style scoped>\n",
       "    .dataframe tbody tr th:only-of-type {\n",
       "        vertical-align: middle;\n",
       "    }\n",
       "\n",
       "    .dataframe tbody tr th {\n",
       "        vertical-align: top;\n",
       "    }\n",
       "\n",
       "    .dataframe thead th {\n",
       "        text-align: right;\n",
       "    }\n",
       "</style>\n",
       "<table border=\"1\" class=\"dataframe\">\n",
       "  <thead>\n",
       "    <tr style=\"text-align: right;\">\n",
       "      <th></th>\n",
       "      <th>ID</th>\n",
       "      <th>Name</th>\n",
       "      <th>DateTime</th>\n",
       "      <th>AnimalType</th>\n",
       "      <th>SexuponOutcome</th>\n",
       "      <th>AgeuponOutcome</th>\n",
       "      <th>Breed</th>\n",
       "      <th>Color</th>\n",
       "    </tr>\n",
       "  </thead>\n",
       "  <tbody>\n",
       "    <tr>\n",
       "      <th>0</th>\n",
       "      <td>1</td>\n",
       "      <td>Summer</td>\n",
       "      <td>2015-10-12 12:15:00</td>\n",
       "      <td>Dog</td>\n",
       "      <td>Intact Female</td>\n",
       "      <td>10 months</td>\n",
       "      <td>Labrador Retriever Mix</td>\n",
       "      <td>Red/White</td>\n",
       "    </tr>\n",
       "    <tr>\n",
       "      <th>1</th>\n",
       "      <td>2</td>\n",
       "      <td>Cheyenne</td>\n",
       "      <td>2014-07-26 17:59:00</td>\n",
       "      <td>Dog</td>\n",
       "      <td>Spayed Female</td>\n",
       "      <td>2 years</td>\n",
       "      <td>German Shepherd/Siberian Husky</td>\n",
       "      <td>Black/Tan</td>\n",
       "    </tr>\n",
       "    <tr>\n",
       "      <th>2</th>\n",
       "      <td>3</td>\n",
       "      <td>Gus</td>\n",
       "      <td>2016-01-13 12:20:00</td>\n",
       "      <td>Cat</td>\n",
       "      <td>Neutered Male</td>\n",
       "      <td>1 year</td>\n",
       "      <td>Domestic Shorthair Mix</td>\n",
       "      <td>Brown Tabby</td>\n",
       "    </tr>\n",
       "    <tr>\n",
       "      <th>3</th>\n",
       "      <td>4</td>\n",
       "      <td>Pongo</td>\n",
       "      <td>2013-12-28 18:12:00</td>\n",
       "      <td>Dog</td>\n",
       "      <td>Intact Male</td>\n",
       "      <td>4 months</td>\n",
       "      <td>Collie Smooth Mix</td>\n",
       "      <td>Tricolor</td>\n",
       "    </tr>\n",
       "    <tr>\n",
       "      <th>4</th>\n",
       "      <td>5</td>\n",
       "      <td>Skooter</td>\n",
       "      <td>2015-09-24 17:59:00</td>\n",
       "      <td>Dog</td>\n",
       "      <td>Neutered Male</td>\n",
       "      <td>2 years</td>\n",
       "      <td>Miniature Poodle Mix</td>\n",
       "      <td>White</td>\n",
       "    </tr>\n",
       "  </tbody>\n",
       "</table>\n",
       "</div>"
      ],
      "text/plain": [
       "   ID      Name             DateTime AnimalType SexuponOutcome AgeuponOutcome  \\\n",
       "0   1    Summer  2015-10-12 12:15:00        Dog  Intact Female      10 months   \n",
       "1   2  Cheyenne  2014-07-26 17:59:00        Dog  Spayed Female        2 years   \n",
       "2   3       Gus  2016-01-13 12:20:00        Cat  Neutered Male         1 year   \n",
       "3   4     Pongo  2013-12-28 18:12:00        Dog    Intact Male       4 months   \n",
       "4   5   Skooter  2015-09-24 17:59:00        Dog  Neutered Male        2 years   \n",
       "\n",
       "                            Breed        Color  \n",
       "0          Labrador Retriever Mix    Red/White  \n",
       "1  German Shepherd/Siberian Husky    Black/Tan  \n",
       "2          Domestic Shorthair Mix  Brown Tabby  \n",
       "3               Collie Smooth Mix     Tricolor  \n",
       "4            Miniature Poodle Mix        White  "
      ]
     },
     "execution_count": 272,
     "metadata": {},
     "output_type": "execute_result"
    }
   ],
   "source": [
    "test.head()"
   ]
  },
  {
   "cell_type": "code",
   "execution_count": 273,
   "id": "561543db-a3c8-46c2-a25e-ca81784b4775",
   "metadata": {},
   "outputs": [
    {
     "name": "stdout",
     "output_type": "stream",
     "text": [
      "<class 'pandas.core.frame.DataFrame'>\n",
      "RangeIndex: 26729 entries, 0 to 26728\n",
      "Data columns (total 10 columns):\n",
      " #   Column          Non-Null Count  Dtype \n",
      "---  ------          --------------  ----- \n",
      " 0   AnimalID        26729 non-null  object\n",
      " 1   Name            19038 non-null  object\n",
      " 2   DateTime        26729 non-null  object\n",
      " 3   OutcomeType     26729 non-null  object\n",
      " 4   OutcomeSubtype  13117 non-null  object\n",
      " 5   AnimalType      26729 non-null  object\n",
      " 6   SexuponOutcome  26728 non-null  object\n",
      " 7   AgeuponOutcome  26711 non-null  object\n",
      " 8   Breed           26729 non-null  object\n",
      " 9   Color           26729 non-null  object\n",
      "dtypes: object(10)\n",
      "memory usage: 2.0+ MB\n"
     ]
    }
   ],
   "source": [
    "train.info()"
   ]
  },
  {
   "cell_type": "markdown",
   "id": "c74bf1f8-2ac8-4aa4-bf12-c39f5fa9f730",
   "metadata": {},
   "source": [
    "The first and second columns are not interesting for us, the values in them, if not unique, are very close to those that will only load our model and not give any information. Column \"OutcomeSubtype\" does not have about half of the values and is not in the test set, so it will be easiest to throw it out as well. And we can work with everything else."
   ]
  },
  {
   "cell_type": "code",
   "execution_count": 274,
   "id": "61fc5cb1-dde6-466a-b1bd-5875dc15e7c4",
   "metadata": {},
   "outputs": [],
   "source": [
    "train = train.drop(['AnimalID','Name','OutcomeSubtype'], axis=1)"
   ]
  },
  {
   "cell_type": "code",
   "execution_count": 275,
   "id": "7bdc1b66-c515-40f0-91e3-2e632ef9e1d4",
   "metadata": {},
   "outputs": [
    {
     "name": "stdout",
     "output_type": "stream",
     "text": [
      "<class 'pandas.core.frame.DataFrame'>\n",
      "RangeIndex: 26729 entries, 0 to 26728\n",
      "Data columns (total 7 columns):\n",
      " #   Column          Non-Null Count  Dtype \n",
      "---  ------          --------------  ----- \n",
      " 0   DateTime        26729 non-null  object\n",
      " 1   OutcomeType     26729 non-null  object\n",
      " 2   AnimalType      26729 non-null  object\n",
      " 3   SexuponOutcome  26728 non-null  object\n",
      " 4   AgeuponOutcome  26711 non-null  object\n",
      " 5   Breed           26729 non-null  object\n",
      " 6   Color           26729 non-null  object\n",
      "dtypes: object(7)\n",
      "memory usage: 1.4+ MB\n"
     ]
    }
   ],
   "source": [
    "train.info()"
   ]
  },
  {
   "cell_type": "markdown",
   "id": "32ad4926-f54a-480e-a887-0a60e89c1327",
   "metadata": {},
   "source": [
    "\\\n",
    "It can be seen that one value is lost in column 3 and a little more than ten in column 4. We will throw them out a little later because this is a very small amount of data. All remaining data are objects, except for the 4th column, later we will convert the values into a numerical version. therefore, the 4th column is numerical values, and all others are categorical. There are not enough columns.\\\n",
    "We will fix it."
   ]
  },
  {
   "cell_type": "code",
   "execution_count": 276,
   "id": "29ce36e8-8b65-41e4-b867-4cf10b6377b0",
   "metadata": {},
   "outputs": [
    {
     "name": "stdout",
     "output_type": "stream",
     "text": [
      "DateTime          0.000000\n",
      "OutcomeType       0.000000\n",
      "AnimalType        0.000000\n",
      "SexuponOutcome    0.000037\n",
      "AgeuponOutcome    0.000673\n",
      "Breed             0.000000\n",
      "Color             0.000000\n",
      "dtype: float64\n"
     ]
    }
   ],
   "source": [
    "print(train.apply(lambda x: sum(x.isnull()) / len(train)))"
   ]
  },
  {
   "cell_type": "code",
   "execution_count": 277,
   "id": "6287c520-11b3-4f5e-9a1a-28e8463b4c58",
   "metadata": {},
   "outputs": [
    {
     "name": "stdout",
     "output_type": "stream",
     "text": [
      "Column:  DateTime \n",
      "\n",
      "['2014-02-12 18:22:00' '2013-10-13 12:44:00' '2015-01-31 12:28:00' ...\n",
      " '2015-05-14 11:56:00' '2015-03-09 13:33:00' '2014-04-27 12:22:00'] \n",
      "***\n",
      "\n",
      "Column:  OutcomeType \n",
      "\n",
      "['Return_to_owner' 'Euthanasia' 'Adoption' 'Transfer' 'Died'] \n",
      "***\n",
      "\n",
      "Column:  AnimalType \n",
      "\n",
      "['Dog' 'Cat'] \n",
      "***\n",
      "\n",
      "Column:  SexuponOutcome \n",
      "\n",
      "['Neutered Male' 'Spayed Female' 'Intact Male' 'Intact Female' 'Unknown'\n",
      " nan] \n",
      "***\n",
      "\n",
      "Column:  AgeuponOutcome \n",
      "\n",
      "['1 year' '2 years' '3 weeks' '1 month' '5 months' '4 years' '3 months'\n",
      " '2 weeks' '2 months' '10 months' '6 months' '5 years' '7 years' '3 years'\n",
      " '4 months' '12 years' '9 years' '6 years' '1 weeks' '11 years' '4 weeks'\n",
      " '7 months' '8 years' '11 months' '4 days' '9 months' '8 months'\n",
      " '15 years' '10 years' '1 week' '0 years' '14 years' '3 days' '6 days'\n",
      " '5 days' '5 weeks' '2 days' '16 years' '1 day' '13 years' nan '17 years'\n",
      " '18 years' '19 years' '20 years'] \n",
      "***\n",
      "\n"
     ]
    }
   ],
   "source": [
    "for i in train.columns[:-2]:\n",
    "    print(\"Column: \", i, \"\\n\")\n",
    "    print(train[i].unique(),\"\\n***\\n\")"
   ]
  },
  {
   "cell_type": "code",
   "execution_count": 278,
   "id": "cdfabf60-311c-43a3-a766-ca21cc8be2f4",
   "metadata": {},
   "outputs": [
    {
     "name": "stdout",
     "output_type": "stream",
     "text": [
      "DateTime             0\n",
      "OutcomeType          0\n",
      "AnimalType           0\n",
      "SexuponOutcome    1093\n",
      "AgeuponOutcome       0\n",
      "Breed                0\n",
      "Color                0\n",
      "dtype: int64\n"
     ]
    }
   ],
   "source": [
    "print(train.apply(lambda x: sum(x == 'Unknown')))"
   ]
  },
  {
   "cell_type": "markdown",
   "id": "0b93bac0-7f4d-4228-88d2-7ed879d17e3e",
   "metadata": {},
   "source": [
    "## Data Cleaning"
   ]
  },
  {
   "cell_type": "markdown",
   "id": "24d3d245-c299-4d7e-978a-02b2c5cc17f2",
   "metadata": {},
   "source": [
    "Perhaps we will combine euthanasia and death, since for an animal it will still be one end. Bad.\\\n",
    "And also get rid of all nan values."
   ]
  },
  {
   "cell_type": "code",
   "execution_count": 279,
   "id": "2239b862-dd4c-4019-9a4f-25a9e865d0a5",
   "metadata": {},
   "outputs": [],
   "source": [
    "train['OutcomeType'].replace(to_replace=['Euthanasia'], value=['Died'], inplace = True)\n",
    "#train_ = train.loc[train['SexuponOutcome']=='Unknown',:]\n",
    "train['SexuponOutcome'].replace(to_replace=['Unknown'], value=[np.nan], inplace = True)\n",
    "train.dropna(subset=['AgeuponOutcome','SexuponOutcome'], inplace=True)"
   ]
  },
  {
   "cell_type": "markdown",
   "id": "249cc436-9852-4e06-b7b8-4d5fed8d6a73",
   "metadata": {},
   "source": [
    "\\\n",
    "Now let's get the information from the \"DateTime\" column, namely: \n",
    "- the month to know what time of year the animal was taken; \n",
    "- day of the week to see if animals are taken more often on weekends; \n",
    "- and the hour at which she was taken was handed over or she died."
   ]
  },
  {
   "cell_type": "code",
   "execution_count": 280,
   "id": "fa8931df-ae00-47de-aff9-77877b0ec3e7",
   "metadata": {},
   "outputs": [],
   "source": [
    "train[\"DateTime\"]=pd.to_datetime(train[\"DateTime\"])"
   ]
  },
  {
   "cell_type": "code",
   "execution_count": 281,
   "id": "f6dcc757-035a-4f7d-a2fc-4a8786300173",
   "metadata": {},
   "outputs": [],
   "source": [
    "train[\"Month\"] = train[\"DateTime\"].dt.month\n",
    "train[\"DayOfWeek\"] = train[\"DateTime\"].dt.dayofweek\n",
    "train[\"Hour\"] = train[\"DateTime\"].dt.hour\n",
    "train = train.drop(['DateTime'], axis=1)"
   ]
  },
  {
   "cell_type": "code",
   "execution_count": 282,
   "id": "1ea11347-6f56-413b-b2fb-c39b3270a8c8",
   "metadata": {},
   "outputs": [
    {
     "data": {
      "text/html": [
       "<div>\n",
       "<style scoped>\n",
       "    .dataframe tbody tr th:only-of-type {\n",
       "        vertical-align: middle;\n",
       "    }\n",
       "\n",
       "    .dataframe tbody tr th {\n",
       "        vertical-align: top;\n",
       "    }\n",
       "\n",
       "    .dataframe thead th {\n",
       "        text-align: right;\n",
       "    }\n",
       "</style>\n",
       "<table border=\"1\" class=\"dataframe\">\n",
       "  <thead>\n",
       "    <tr style=\"text-align: right;\">\n",
       "      <th></th>\n",
       "      <th>OutcomeType</th>\n",
       "      <th>AnimalType</th>\n",
       "      <th>SexuponOutcome</th>\n",
       "      <th>AgeuponOutcome</th>\n",
       "      <th>Breed</th>\n",
       "      <th>Color</th>\n",
       "      <th>Month</th>\n",
       "      <th>DayOfWeek</th>\n",
       "      <th>Hour</th>\n",
       "    </tr>\n",
       "  </thead>\n",
       "  <tbody>\n",
       "    <tr>\n",
       "      <th>0</th>\n",
       "      <td>Return_to_owner</td>\n",
       "      <td>Dog</td>\n",
       "      <td>Neutered Male</td>\n",
       "      <td>1 year</td>\n",
       "      <td>Shetland Sheepdog Mix</td>\n",
       "      <td>Brown/White</td>\n",
       "      <td>2</td>\n",
       "      <td>2</td>\n",
       "      <td>18</td>\n",
       "    </tr>\n",
       "    <tr>\n",
       "      <th>1</th>\n",
       "      <td>Died</td>\n",
       "      <td>Cat</td>\n",
       "      <td>Spayed Female</td>\n",
       "      <td>1 year</td>\n",
       "      <td>Domestic Shorthair Mix</td>\n",
       "      <td>Cream Tabby</td>\n",
       "      <td>10</td>\n",
       "      <td>6</td>\n",
       "      <td>12</td>\n",
       "    </tr>\n",
       "    <tr>\n",
       "      <th>2</th>\n",
       "      <td>Adoption</td>\n",
       "      <td>Dog</td>\n",
       "      <td>Neutered Male</td>\n",
       "      <td>2 years</td>\n",
       "      <td>Pit Bull Mix</td>\n",
       "      <td>Blue/White</td>\n",
       "      <td>1</td>\n",
       "      <td>5</td>\n",
       "      <td>12</td>\n",
       "    </tr>\n",
       "    <tr>\n",
       "      <th>3</th>\n",
       "      <td>Transfer</td>\n",
       "      <td>Cat</td>\n",
       "      <td>Intact Male</td>\n",
       "      <td>3 weeks</td>\n",
       "      <td>Domestic Shorthair Mix</td>\n",
       "      <td>Blue Cream</td>\n",
       "      <td>7</td>\n",
       "      <td>4</td>\n",
       "      <td>19</td>\n",
       "    </tr>\n",
       "    <tr>\n",
       "      <th>4</th>\n",
       "      <td>Transfer</td>\n",
       "      <td>Dog</td>\n",
       "      <td>Neutered Male</td>\n",
       "      <td>2 years</td>\n",
       "      <td>Lhasa Apso/Miniature Poodle</td>\n",
       "      <td>Tan</td>\n",
       "      <td>11</td>\n",
       "      <td>4</td>\n",
       "      <td>12</td>\n",
       "    </tr>\n",
       "  </tbody>\n",
       "</table>\n",
       "</div>"
      ],
      "text/plain": [
       "       OutcomeType AnimalType SexuponOutcome AgeuponOutcome  \\\n",
       "0  Return_to_owner        Dog  Neutered Male         1 year   \n",
       "1             Died        Cat  Spayed Female         1 year   \n",
       "2         Adoption        Dog  Neutered Male        2 years   \n",
       "3         Transfer        Cat    Intact Male        3 weeks   \n",
       "4         Transfer        Dog  Neutered Male        2 years   \n",
       "\n",
       "                         Breed        Color  Month  DayOfWeek  Hour  \n",
       "0        Shetland Sheepdog Mix  Brown/White      2          2    18  \n",
       "1       Domestic Shorthair Mix  Cream Tabby     10          6    12  \n",
       "2                 Pit Bull Mix   Blue/White      1          5    12  \n",
       "3       Domestic Shorthair Mix   Blue Cream      7          4    19  \n",
       "4  Lhasa Apso/Miniature Poodle          Tan     11          4    12  "
      ]
     },
     "execution_count": 282,
     "metadata": {},
     "output_type": "execute_result"
    }
   ],
   "source": [
    "train.head()"
   ]
  },
  {
   "cell_type": "code",
   "execution_count": 283,
   "id": "1c0df2ef-9ce7-41c3-97ee-9b7d1d390639",
   "metadata": {},
   "outputs": [],
   "source": [
    "def day(x):\n",
    "    if x == 6 or x == 5: return 'weekend'\n",
    "    return 'usual_day'\n",
    "train['DayOfWeek'] = train.DayOfWeek.apply(day)"
   ]
  },
  {
   "cell_type": "markdown",
   "id": "8567031b-adef-444e-93b2-41ad74776ed7",
   "metadata": {},
   "source": [
    "\\\n",
    "Now let's turn the column into a numeric one, we'll indicate the age in months."
   ]
  },
  {
   "cell_type": "code",
   "execution_count": 200,
   "id": "7c0cb826-ac48-4bcd-9542-105f2a76b1eb",
   "metadata": {},
   "outputs": [],
   "source": [
    "def to_month(data, column):\n",
    "    a = []\n",
    "    for i in data[column]:\n",
    "        x = re.split(\"\\s\", i)\n",
    "        if bool(re.search(\"^y\", ''.join(x[1:]))) == True:\n",
    "            i = int(''.join(x[:1]))*12\n",
    "        elif bool(re.search(\"^m\", ''.join(x[1:]))) == True:\n",
    "            i = int(''.join(x[:1]))\n",
    "        else:\n",
    "            i = 0\n",
    "        a.append(i)\n",
    "    data[column] = a\n",
    "    return data\n",
    "    \n",
    "train = to_month(train, 'AgeuponOutcome')"
   ]
  },
  {
   "cell_type": "code",
   "execution_count": 201,
   "id": "938ee053-89d4-4806-8234-961087c04c32",
   "metadata": {},
   "outputs": [
    {
     "data": {
      "text/html": [
       "<div>\n",
       "<style scoped>\n",
       "    .dataframe tbody tr th:only-of-type {\n",
       "        vertical-align: middle;\n",
       "    }\n",
       "\n",
       "    .dataframe tbody tr th {\n",
       "        vertical-align: top;\n",
       "    }\n",
       "\n",
       "    .dataframe thead th {\n",
       "        text-align: right;\n",
       "    }\n",
       "</style>\n",
       "<table border=\"1\" class=\"dataframe\">\n",
       "  <thead>\n",
       "    <tr style=\"text-align: right;\">\n",
       "      <th></th>\n",
       "      <th>OutcomeType</th>\n",
       "      <th>AnimalType</th>\n",
       "      <th>SexuponOutcome</th>\n",
       "      <th>AgeuponOutcome</th>\n",
       "      <th>Breed</th>\n",
       "      <th>Color</th>\n",
       "      <th>Month</th>\n",
       "      <th>DayOfWeek</th>\n",
       "      <th>Hour</th>\n",
       "    </tr>\n",
       "  </thead>\n",
       "  <tbody>\n",
       "    <tr>\n",
       "      <th>0</th>\n",
       "      <td>Return_to_owner</td>\n",
       "      <td>Dog</td>\n",
       "      <td>Neutered Male</td>\n",
       "      <td>12</td>\n",
       "      <td>Shetland Sheepdog Mix</td>\n",
       "      <td>Brown/White</td>\n",
       "      <td>2</td>\n",
       "      <td>usual_day</td>\n",
       "      <td>18</td>\n",
       "    </tr>\n",
       "    <tr>\n",
       "      <th>1</th>\n",
       "      <td>Died</td>\n",
       "      <td>Cat</td>\n",
       "      <td>Spayed Female</td>\n",
       "      <td>12</td>\n",
       "      <td>Domestic Shorthair Mix</td>\n",
       "      <td>Cream Tabby</td>\n",
       "      <td>10</td>\n",
       "      <td>weekend</td>\n",
       "      <td>12</td>\n",
       "    </tr>\n",
       "    <tr>\n",
       "      <th>2</th>\n",
       "      <td>Adoption</td>\n",
       "      <td>Dog</td>\n",
       "      <td>Neutered Male</td>\n",
       "      <td>24</td>\n",
       "      <td>Pit Bull Mix</td>\n",
       "      <td>Blue/White</td>\n",
       "      <td>1</td>\n",
       "      <td>weekend</td>\n",
       "      <td>12</td>\n",
       "    </tr>\n",
       "    <tr>\n",
       "      <th>3</th>\n",
       "      <td>Transfer</td>\n",
       "      <td>Cat</td>\n",
       "      <td>Intact Male</td>\n",
       "      <td>0</td>\n",
       "      <td>Domestic Shorthair Mix</td>\n",
       "      <td>Blue Cream</td>\n",
       "      <td>7</td>\n",
       "      <td>usual_day</td>\n",
       "      <td>19</td>\n",
       "    </tr>\n",
       "    <tr>\n",
       "      <th>4</th>\n",
       "      <td>Transfer</td>\n",
       "      <td>Dog</td>\n",
       "      <td>Neutered Male</td>\n",
       "      <td>24</td>\n",
       "      <td>Lhasa Apso/Miniature Poodle</td>\n",
       "      <td>Tan</td>\n",
       "      <td>11</td>\n",
       "      <td>usual_day</td>\n",
       "      <td>12</td>\n",
       "    </tr>\n",
       "  </tbody>\n",
       "</table>\n",
       "</div>"
      ],
      "text/plain": [
       "       OutcomeType AnimalType SexuponOutcome  AgeuponOutcome  \\\n",
       "0  Return_to_owner        Dog  Neutered Male              12   \n",
       "1             Died        Cat  Spayed Female              12   \n",
       "2         Adoption        Dog  Neutered Male              24   \n",
       "3         Transfer        Cat    Intact Male               0   \n",
       "4         Transfer        Dog  Neutered Male              24   \n",
       "\n",
       "                         Breed        Color  Month  DayOfWeek  Hour  \n",
       "0        Shetland Sheepdog Mix  Brown/White      2  usual_day    18  \n",
       "1       Domestic Shorthair Mix  Cream Tabby     10    weekend    12  \n",
       "2                 Pit Bull Mix   Blue/White      1    weekend    12  \n",
       "3       Domestic Shorthair Mix   Blue Cream      7  usual_day    19  \n",
       "4  Lhasa Apso/Miniature Poodle          Tan     11  usual_day    12  "
      ]
     },
     "execution_count": 201,
     "metadata": {},
     "output_type": "execute_result"
    }
   ],
   "source": [
    "train.head()"
   ]
  },
  {
   "cell_type": "markdown",
   "id": "f5234a3a-cd81-40c6-ad23-0f5f5f888ebd",
   "metadata": {},
   "source": [
    "\\\n",
    "I consider it appropriate to divide the column \"SexuponOutcome\" into two, namely \"Sex\" and \"Neutered\""
   ]
  },
  {
   "cell_type": "code",
   "execution_count": 202,
   "id": "5fde2c88-0f36-4ae2-a5b5-00dd899d507a",
   "metadata": {},
   "outputs": [],
   "source": [
    "def get_sex(x):\n",
    "    x = str(x)\n",
    "    if x.find('Male') >= 0: return 'male'\n",
    "    if x.find('Female') >= 0: return 'female'\n",
    "    return np.nan\n",
    "def get_neutered(x):\n",
    "    x = str(x)\n",
    "    if x.find('Spayed') >= 0: return 'neutered'\n",
    "    if x.find('Neutered') >= 0: return 'neutered'\n",
    "    if x.find('Intact') >= 0: return 'intact'\n",
    "    return np.nan\n",
    "\n",
    "train['Sex'] = train.SexuponOutcome.apply(get_sex)\n",
    "train['Neutered'] = train.SexuponOutcome.apply(get_neutered)\n",
    "train = train.drop(['SexuponOutcome'],axis = 1)"
   ]
  },
  {
   "cell_type": "code",
   "execution_count": 203,
   "id": "bdb9737d-6701-4996-af9a-bb71f79d20eb",
   "metadata": {},
   "outputs": [
    {
     "data": {
      "text/html": [
       "<div>\n",
       "<style scoped>\n",
       "    .dataframe tbody tr th:only-of-type {\n",
       "        vertical-align: middle;\n",
       "    }\n",
       "\n",
       "    .dataframe tbody tr th {\n",
       "        vertical-align: top;\n",
       "    }\n",
       "\n",
       "    .dataframe thead th {\n",
       "        text-align: right;\n",
       "    }\n",
       "</style>\n",
       "<table border=\"1\" class=\"dataframe\">\n",
       "  <thead>\n",
       "    <tr style=\"text-align: right;\">\n",
       "      <th></th>\n",
       "      <th>OutcomeType</th>\n",
       "      <th>AnimalType</th>\n",
       "      <th>AgeuponOutcome</th>\n",
       "      <th>Breed</th>\n",
       "      <th>Color</th>\n",
       "      <th>Month</th>\n",
       "      <th>DayOfWeek</th>\n",
       "      <th>Hour</th>\n",
       "      <th>Sex</th>\n",
       "      <th>Neutered</th>\n",
       "    </tr>\n",
       "  </thead>\n",
       "  <tbody>\n",
       "    <tr>\n",
       "      <th>0</th>\n",
       "      <td>Return_to_owner</td>\n",
       "      <td>Dog</td>\n",
       "      <td>12</td>\n",
       "      <td>Shetland Sheepdog Mix</td>\n",
       "      <td>Brown/White</td>\n",
       "      <td>2</td>\n",
       "      <td>usual_day</td>\n",
       "      <td>18</td>\n",
       "      <td>male</td>\n",
       "      <td>neutered</td>\n",
       "    </tr>\n",
       "    <tr>\n",
       "      <th>1</th>\n",
       "      <td>Died</td>\n",
       "      <td>Cat</td>\n",
       "      <td>12</td>\n",
       "      <td>Domestic Shorthair Mix</td>\n",
       "      <td>Cream Tabby</td>\n",
       "      <td>10</td>\n",
       "      <td>weekend</td>\n",
       "      <td>12</td>\n",
       "      <td>female</td>\n",
       "      <td>neutered</td>\n",
       "    </tr>\n",
       "    <tr>\n",
       "      <th>2</th>\n",
       "      <td>Adoption</td>\n",
       "      <td>Dog</td>\n",
       "      <td>24</td>\n",
       "      <td>Pit Bull Mix</td>\n",
       "      <td>Blue/White</td>\n",
       "      <td>1</td>\n",
       "      <td>weekend</td>\n",
       "      <td>12</td>\n",
       "      <td>male</td>\n",
       "      <td>neutered</td>\n",
       "    </tr>\n",
       "    <tr>\n",
       "      <th>3</th>\n",
       "      <td>Transfer</td>\n",
       "      <td>Cat</td>\n",
       "      <td>0</td>\n",
       "      <td>Domestic Shorthair Mix</td>\n",
       "      <td>Blue Cream</td>\n",
       "      <td>7</td>\n",
       "      <td>usual_day</td>\n",
       "      <td>19</td>\n",
       "      <td>male</td>\n",
       "      <td>intact</td>\n",
       "    </tr>\n",
       "    <tr>\n",
       "      <th>4</th>\n",
       "      <td>Transfer</td>\n",
       "      <td>Dog</td>\n",
       "      <td>24</td>\n",
       "      <td>Lhasa Apso/Miniature Poodle</td>\n",
       "      <td>Tan</td>\n",
       "      <td>11</td>\n",
       "      <td>usual_day</td>\n",
       "      <td>12</td>\n",
       "      <td>male</td>\n",
       "      <td>neutered</td>\n",
       "    </tr>\n",
       "  </tbody>\n",
       "</table>\n",
       "</div>"
      ],
      "text/plain": [
       "       OutcomeType AnimalType  AgeuponOutcome                        Breed  \\\n",
       "0  Return_to_owner        Dog              12        Shetland Sheepdog Mix   \n",
       "1             Died        Cat              12       Domestic Shorthair Mix   \n",
       "2         Adoption        Dog              24                 Pit Bull Mix   \n",
       "3         Transfer        Cat               0       Domestic Shorthair Mix   \n",
       "4         Transfer        Dog              24  Lhasa Apso/Miniature Poodle   \n",
       "\n",
       "         Color  Month  DayOfWeek  Hour     Sex  Neutered  \n",
       "0  Brown/White      2  usual_day    18    male  neutered  \n",
       "1  Cream Tabby     10    weekend    12  female  neutered  \n",
       "2   Blue/White      1    weekend    12    male  neutered  \n",
       "3   Blue Cream      7  usual_day    19    male    intact  \n",
       "4          Tan     11  usual_day    12    male  neutered  "
      ]
     },
     "execution_count": 203,
     "metadata": {},
     "output_type": "execute_result"
    }
   ],
   "source": [
    "train.head()"
   ]
  },
  {
   "cell_type": "markdown",
   "id": "b72b3d47-fa5f-44bf-9e71-f912407272a6",
   "metadata": {},
   "source": [
    "\\\n",
    "I wonder if the breed and color of the animal affects how often it is taken. It seems to me that the first influences exactly. Let's try to confirm it"
   ]
  },
  {
   "cell_type": "code",
   "execution_count": 204,
   "id": "3908b96f-9b9c-4920-9337-2aebc9d278a4",
   "metadata": {},
   "outputs": [
    {
     "data": {
      "text/html": [
       "<div>\n",
       "<style scoped>\n",
       "    .dataframe tbody tr th:only-of-type {\n",
       "        vertical-align: middle;\n",
       "    }\n",
       "\n",
       "    .dataframe tbody tr th {\n",
       "        vertical-align: top;\n",
       "    }\n",
       "\n",
       "    .dataframe thead th {\n",
       "        text-align: right;\n",
       "    }\n",
       "</style>\n",
       "<table border=\"1\" class=\"dataframe\">\n",
       "  <thead>\n",
       "    <tr style=\"text-align: right;\">\n",
       "      <th></th>\n",
       "      <th>OutcomeType</th>\n",
       "      <th>AnimalType</th>\n",
       "      <th>AgeuponOutcome</th>\n",
       "      <th>Breed</th>\n",
       "      <th>Color</th>\n",
       "      <th>Month</th>\n",
       "      <th>DayOfWeek</th>\n",
       "      <th>Hour</th>\n",
       "      <th>Sex</th>\n",
       "      <th>Neutered</th>\n",
       "      <th>is_Breed</th>\n",
       "    </tr>\n",
       "  </thead>\n",
       "  <tbody>\n",
       "    <tr>\n",
       "      <th>0</th>\n",
       "      <td>Return_to_owner</td>\n",
       "      <td>Dog</td>\n",
       "      <td>12</td>\n",
       "      <td>Shetland Sheepdog Mix</td>\n",
       "      <td>Brown/White</td>\n",
       "      <td>2</td>\n",
       "      <td>usual_day</td>\n",
       "      <td>18</td>\n",
       "      <td>male</td>\n",
       "      <td>neutered</td>\n",
       "      <td>Mix</td>\n",
       "    </tr>\n",
       "    <tr>\n",
       "      <th>1</th>\n",
       "      <td>Died</td>\n",
       "      <td>Cat</td>\n",
       "      <td>12</td>\n",
       "      <td>Domestic Shorthair Mix</td>\n",
       "      <td>Cream Tabby</td>\n",
       "      <td>10</td>\n",
       "      <td>weekend</td>\n",
       "      <td>12</td>\n",
       "      <td>female</td>\n",
       "      <td>neutered</td>\n",
       "      <td>Mix</td>\n",
       "    </tr>\n",
       "    <tr>\n",
       "      <th>2</th>\n",
       "      <td>Adoption</td>\n",
       "      <td>Dog</td>\n",
       "      <td>24</td>\n",
       "      <td>Pit Bull Mix</td>\n",
       "      <td>Blue/White</td>\n",
       "      <td>1</td>\n",
       "      <td>weekend</td>\n",
       "      <td>12</td>\n",
       "      <td>male</td>\n",
       "      <td>neutered</td>\n",
       "      <td>Mix</td>\n",
       "    </tr>\n",
       "    <tr>\n",
       "      <th>3</th>\n",
       "      <td>Transfer</td>\n",
       "      <td>Cat</td>\n",
       "      <td>0</td>\n",
       "      <td>Domestic Shorthair Mix</td>\n",
       "      <td>Blue Cream</td>\n",
       "      <td>7</td>\n",
       "      <td>usual_day</td>\n",
       "      <td>19</td>\n",
       "      <td>male</td>\n",
       "      <td>intact</td>\n",
       "      <td>Mix</td>\n",
       "    </tr>\n",
       "    <tr>\n",
       "      <th>4</th>\n",
       "      <td>Transfer</td>\n",
       "      <td>Dog</td>\n",
       "      <td>24</td>\n",
       "      <td>Lhasa Apso/Miniature Poodle</td>\n",
       "      <td>Tan</td>\n",
       "      <td>11</td>\n",
       "      <td>usual_day</td>\n",
       "      <td>12</td>\n",
       "      <td>male</td>\n",
       "      <td>neutered</td>\n",
       "      <td>Purebred</td>\n",
       "    </tr>\n",
       "  </tbody>\n",
       "</table>\n",
       "</div>"
      ],
      "text/plain": [
       "       OutcomeType AnimalType  AgeuponOutcome                        Breed  \\\n",
       "0  Return_to_owner        Dog              12        Shetland Sheepdog Mix   \n",
       "1             Died        Cat              12       Domestic Shorthair Mix   \n",
       "2         Adoption        Dog              24                 Pit Bull Mix   \n",
       "3         Transfer        Cat               0       Domestic Shorthair Mix   \n",
       "4         Transfer        Dog              24  Lhasa Apso/Miniature Poodle   \n",
       "\n",
       "         Color  Month  DayOfWeek  Hour     Sex  Neutered  is_Breed  \n",
       "0  Brown/White      2  usual_day    18    male  neutered       Mix  \n",
       "1  Cream Tabby     10    weekend    12  female  neutered       Mix  \n",
       "2   Blue/White      1    weekend    12    male  neutered       Mix  \n",
       "3   Blue Cream      7  usual_day    19    male    intact       Mix  \n",
       "4          Tan     11  usual_day    12    male  neutered  Purebred  "
      ]
     },
     "execution_count": 204,
     "metadata": {},
     "output_type": "execute_result"
    }
   ],
   "source": [
    "def get_mix(x):\n",
    "    x = str(x)\n",
    "    if x.find('Mix') >= 0: return 'Mix'\n",
    "    #if x.find('/') >= 0: return 'Mix'\n",
    "    return 'Purebred'\n",
    "\n",
    "train['is_Breed'] = train.Breed.apply(get_mix)\n",
    "train.head()"
   ]
  },
  {
   "cell_type": "code",
   "execution_count": 205,
   "id": "a5d69d8c-1150-4849-93d5-f2d54edce5d5",
   "metadata": {},
   "outputs": [
    {
     "data": {
      "text/html": [
       "<div>\n",
       "<style scoped>\n",
       "    .dataframe tbody tr th:only-of-type {\n",
       "        vertical-align: middle;\n",
       "    }\n",
       "\n",
       "    .dataframe tbody tr th {\n",
       "        vertical-align: top;\n",
       "    }\n",
       "\n",
       "    .dataframe thead th {\n",
       "        text-align: right;\n",
       "    }\n",
       "</style>\n",
       "<table border=\"1\" class=\"dataframe\">\n",
       "  <thead>\n",
       "    <tr style=\"text-align: right;\">\n",
       "      <th></th>\n",
       "      <th>OutcomeType</th>\n",
       "      <th>AnimalType</th>\n",
       "      <th>AgeuponOutcome</th>\n",
       "      <th>Breed</th>\n",
       "      <th>Color</th>\n",
       "      <th>Month</th>\n",
       "      <th>DayOfWeek</th>\n",
       "      <th>Hour</th>\n",
       "      <th>Sex</th>\n",
       "      <th>Neutered</th>\n",
       "      <th>is_Breed</th>\n",
       "    </tr>\n",
       "  </thead>\n",
       "  <tbody>\n",
       "    <tr>\n",
       "      <th>0</th>\n",
       "      <td>Return_to_owner</td>\n",
       "      <td>Dog</td>\n",
       "      <td>12</td>\n",
       "      <td>Shetland Sheepdog Mix</td>\n",
       "      <td>Brown White</td>\n",
       "      <td>2</td>\n",
       "      <td>usual_day</td>\n",
       "      <td>18</td>\n",
       "      <td>male</td>\n",
       "      <td>neutered</td>\n",
       "      <td>Mix</td>\n",
       "    </tr>\n",
       "    <tr>\n",
       "      <th>1</th>\n",
       "      <td>Died</td>\n",
       "      <td>Cat</td>\n",
       "      <td>12</td>\n",
       "      <td>Domestic Shorthair Mix</td>\n",
       "      <td>Cream Tabby</td>\n",
       "      <td>10</td>\n",
       "      <td>weekend</td>\n",
       "      <td>12</td>\n",
       "      <td>female</td>\n",
       "      <td>neutered</td>\n",
       "      <td>Mix</td>\n",
       "    </tr>\n",
       "    <tr>\n",
       "      <th>2</th>\n",
       "      <td>Adoption</td>\n",
       "      <td>Dog</td>\n",
       "      <td>24</td>\n",
       "      <td>Pit Bull Mix</td>\n",
       "      <td>Blue White</td>\n",
       "      <td>1</td>\n",
       "      <td>weekend</td>\n",
       "      <td>12</td>\n",
       "      <td>male</td>\n",
       "      <td>neutered</td>\n",
       "      <td>Mix</td>\n",
       "    </tr>\n",
       "    <tr>\n",
       "      <th>3</th>\n",
       "      <td>Transfer</td>\n",
       "      <td>Cat</td>\n",
       "      <td>0</td>\n",
       "      <td>Domestic Shorthair Mix</td>\n",
       "      <td>Blue Cream</td>\n",
       "      <td>7</td>\n",
       "      <td>usual_day</td>\n",
       "      <td>19</td>\n",
       "      <td>male</td>\n",
       "      <td>intact</td>\n",
       "      <td>Mix</td>\n",
       "    </tr>\n",
       "    <tr>\n",
       "      <th>4</th>\n",
       "      <td>Transfer</td>\n",
       "      <td>Dog</td>\n",
       "      <td>24</td>\n",
       "      <td>Lhasa Apso Miniature Poodle</td>\n",
       "      <td>Tan</td>\n",
       "      <td>11</td>\n",
       "      <td>usual_day</td>\n",
       "      <td>12</td>\n",
       "      <td>male</td>\n",
       "      <td>neutered</td>\n",
       "      <td>Purebred</td>\n",
       "    </tr>\n",
       "  </tbody>\n",
       "</table>\n",
       "</div>"
      ],
      "text/plain": [
       "       OutcomeType AnimalType  AgeuponOutcome                        Breed  \\\n",
       "0  Return_to_owner        Dog              12        Shetland Sheepdog Mix   \n",
       "1             Died        Cat              12       Domestic Shorthair Mix   \n",
       "2         Adoption        Dog              24                 Pit Bull Mix   \n",
       "3         Transfer        Cat               0       Domestic Shorthair Mix   \n",
       "4         Transfer        Dog              24  Lhasa Apso Miniature Poodle   \n",
       "\n",
       "         Color  Month  DayOfWeek  Hour     Sex  Neutered  is_Breed  \n",
       "0  Brown White      2  usual_day    18    male  neutered       Mix  \n",
       "1  Cream Tabby     10    weekend    12  female  neutered       Mix  \n",
       "2   Blue White      1    weekend    12    male  neutered       Mix  \n",
       "3   Blue Cream      7  usual_day    19    male    intact       Mix  \n",
       "4          Tan     11  usual_day    12    male  neutered  Purebred  "
      ]
     },
     "execution_count": 205,
     "metadata": {},
     "output_type": "execute_result"
    }
   ],
   "source": [
    "def pure_text(data, column):\n",
    "    a = []\n",
    "    for i in data[column]:\n",
    "        i = \" \".join(i.split(\"/\"))\n",
    "        a.append(i)\n",
    "    data[column] = a\n",
    "    return data\n",
    "    \n",
    "train = pure_text(train, 'Breed')\n",
    "train = pure_text(train, 'Color')\n",
    "train.head()"
   ]
  },
  {
   "cell_type": "code",
   "execution_count": 206,
   "id": "d63b5c49-9b50-444c-8784-43313b8792a3",
   "metadata": {},
   "outputs": [
    {
     "data": {
      "text/html": [
       "<div>\n",
       "<style scoped>\n",
       "    .dataframe tbody tr th:only-of-type {\n",
       "        vertical-align: middle;\n",
       "    }\n",
       "\n",
       "    .dataframe tbody tr th {\n",
       "        vertical-align: top;\n",
       "    }\n",
       "\n",
       "    .dataframe thead th {\n",
       "        text-align: right;\n",
       "    }\n",
       "</style>\n",
       "<table border=\"1\" class=\"dataframe\">\n",
       "  <thead>\n",
       "    <tr style=\"text-align: right;\">\n",
       "      <th></th>\n",
       "      <th>OutcomeType</th>\n",
       "      <th>AnimalType</th>\n",
       "      <th>AgeuponOutcome</th>\n",
       "      <th>Breed</th>\n",
       "      <th>Color</th>\n",
       "      <th>Month</th>\n",
       "      <th>DayOfWeek</th>\n",
       "      <th>Hour</th>\n",
       "      <th>Sex</th>\n",
       "      <th>Neutered</th>\n",
       "      <th>is_Breed</th>\n",
       "      <th>is_Colorful</th>\n",
       "    </tr>\n",
       "  </thead>\n",
       "  <tbody>\n",
       "    <tr>\n",
       "      <th>0</th>\n",
       "      <td>Return_to_owner</td>\n",
       "      <td>Dog</td>\n",
       "      <td>12</td>\n",
       "      <td>Shetland Sheepdog Mix</td>\n",
       "      <td>Brown White</td>\n",
       "      <td>2</td>\n",
       "      <td>usual_day</td>\n",
       "      <td>18</td>\n",
       "      <td>male</td>\n",
       "      <td>neutered</td>\n",
       "      <td>Mix</td>\n",
       "      <td>Plain</td>\n",
       "    </tr>\n",
       "    <tr>\n",
       "      <th>1</th>\n",
       "      <td>Died</td>\n",
       "      <td>Cat</td>\n",
       "      <td>12</td>\n",
       "      <td>Domestic Shorthair Mix</td>\n",
       "      <td>Cream Tabby</td>\n",
       "      <td>10</td>\n",
       "      <td>weekend</td>\n",
       "      <td>12</td>\n",
       "      <td>female</td>\n",
       "      <td>neutered</td>\n",
       "      <td>Mix</td>\n",
       "      <td>Plain</td>\n",
       "    </tr>\n",
       "    <tr>\n",
       "      <th>2</th>\n",
       "      <td>Adoption</td>\n",
       "      <td>Dog</td>\n",
       "      <td>24</td>\n",
       "      <td>Pit Bull Mix</td>\n",
       "      <td>Blue White</td>\n",
       "      <td>1</td>\n",
       "      <td>weekend</td>\n",
       "      <td>12</td>\n",
       "      <td>male</td>\n",
       "      <td>neutered</td>\n",
       "      <td>Mix</td>\n",
       "      <td>Plain</td>\n",
       "    </tr>\n",
       "    <tr>\n",
       "      <th>3</th>\n",
       "      <td>Transfer</td>\n",
       "      <td>Cat</td>\n",
       "      <td>0</td>\n",
       "      <td>Domestic Shorthair Mix</td>\n",
       "      <td>Blue Cream</td>\n",
       "      <td>7</td>\n",
       "      <td>usual_day</td>\n",
       "      <td>19</td>\n",
       "      <td>male</td>\n",
       "      <td>intact</td>\n",
       "      <td>Mix</td>\n",
       "      <td>Plain</td>\n",
       "    </tr>\n",
       "    <tr>\n",
       "      <th>4</th>\n",
       "      <td>Transfer</td>\n",
       "      <td>Dog</td>\n",
       "      <td>24</td>\n",
       "      <td>Lhasa Apso Miniature Poodle</td>\n",
       "      <td>Tan</td>\n",
       "      <td>11</td>\n",
       "      <td>usual_day</td>\n",
       "      <td>12</td>\n",
       "      <td>male</td>\n",
       "      <td>neutered</td>\n",
       "      <td>Purebred</td>\n",
       "      <td>Plain</td>\n",
       "    </tr>\n",
       "  </tbody>\n",
       "</table>\n",
       "</div>"
      ],
      "text/plain": [
       "       OutcomeType AnimalType  AgeuponOutcome                        Breed  \\\n",
       "0  Return_to_owner        Dog              12        Shetland Sheepdog Mix   \n",
       "1             Died        Cat              12       Domestic Shorthair Mix   \n",
       "2         Adoption        Dog              24                 Pit Bull Mix   \n",
       "3         Transfer        Cat               0       Domestic Shorthair Mix   \n",
       "4         Transfer        Dog              24  Lhasa Apso Miniature Poodle   \n",
       "\n",
       "         Color  Month  DayOfWeek  Hour     Sex  Neutered  is_Breed is_Colorful  \n",
       "0  Brown White      2  usual_day    18    male  neutered       Mix       Plain  \n",
       "1  Cream Tabby     10    weekend    12  female  neutered       Mix       Plain  \n",
       "2   Blue White      1    weekend    12    male  neutered       Mix       Plain  \n",
       "3   Blue Cream      7  usual_day    19    male    intact       Mix       Plain  \n",
       "4          Tan     11  usual_day    12    male  neutered  Purebred       Plain  "
      ]
     },
     "execution_count": 206,
     "metadata": {},
     "output_type": "execute_result"
    }
   ],
   "source": [
    "def get_col(x):\n",
    "    x = str(x)\n",
    "    if x.find('Tricolor') >= 0: return 'Colorful'\n",
    "    if x.find('/') >= 0: return 'Colorful'\n",
    "    return 'Plain'\n",
    "\n",
    "train['is_Colorful'] = train.Color.apply(get_col)\n",
    "train.head()"
   ]
  },
  {
   "cell_type": "code",
   "execution_count": 207,
   "id": "1a9348ab-b7af-4926-a58c-b331f42efa83",
   "metadata": {},
   "outputs": [
    {
     "name": "stdout",
     "output_type": "stream",
     "text": [
      "obj_col: 9\n",
      "num_col: 3\n"
     ]
    }
   ],
   "source": [
    "obj_col = []\n",
    "num_col = []\n",
    "for i in train.columns:\n",
    "    if train[i].dtype == 'O':\n",
    "        obj_col.append(i)\n",
    "    else:\n",
    "        num_col.append(i)\n",
    "\n",
    "print('obj_col:', len(obj_col))\n",
    "print('num_col:', len(num_col))"
   ]
  },
  {
   "cell_type": "code",
   "execution_count": 208,
   "id": "9d7887fa-8fc8-482f-a6d1-50a8194601db",
   "metadata": {
    "tags": []
   },
   "outputs": [],
   "source": [
    "obj_col.remove('Breed')\n",
    "obj_col.remove('Color')"
   ]
  },
  {
   "cell_type": "markdown",
   "id": "12718992-a017-4242-b8a9-10458c98a7b6",
   "metadata": {},
   "source": [
    "## Data Visualization"
   ]
  },
  {
   "cell_type": "code",
   "execution_count": 209,
   "id": "29a86e53-fd9b-4a47-ba85-256b5693b33f",
   "metadata": {},
   "outputs": [
    {
     "name": "stderr",
     "output_type": "stream",
     "text": [
      "<ipython-input-209-4b23ca433c06>:8: UserWarning: FixedFormatter should only be used together with FixedLocator\n",
      "  ax.set_xticklabels(tmp['index'], rotation=90)\n"
     ]
    },
    {
     "data": {
      "image/png": "[encoded data removed]",
      "text/plain": [
       "<Figure size 720x576 with 7 Axes>"
      ]
     },
     "metadata": {
      "needs_background": "light"
     },
     "output_type": "display_data"
    }
   ],
   "source": [
    "fig = plt.figure(figsize=(10, 8))\n",
    "fig.subplots_adjust(hspace=0.8, wspace=0.8)\n",
    "for i,var in enumerate(obj_col):\n",
    "    tmp = train[var].value_counts().reset_index()\n",
    "    ax = fig.add_subplot(3, 3, i+1)\n",
    "    ax.bar(tmp['index'], tmp[var])\n",
    "    ax.set_title(var)\n",
    "    ax.set_xticklabels(tmp['index'], rotation=90)"
   ]
  },
  {
   "cell_type": "code",
   "execution_count": 210,
   "id": "4ca1796e-2d24-4831-b496-a849104c31cb",
   "metadata": {},
   "outputs": [
    {
     "name": "stdout",
     "output_type": "stream",
     "text": [
      "Column:  OutcomeType \n",
      "\n",
      "Adoption           10769\n",
      "Transfer            8455\n",
      "Return_to_owner     4773\n",
      "Died                1624\n",
      "Name: OutcomeType, dtype: int64 \n",
      "***\n",
      "\n",
      "Column:  AnimalType \n",
      "\n",
      "Dog    15516\n",
      "Cat    10105\n",
      "Name: AnimalType, dtype: int64 \n",
      "***\n",
      "\n",
      "Column:  DayOfWeek \n",
      "\n",
      "usual_day    17279\n",
      "weekend       8342\n",
      "Name: DayOfWeek, dtype: int64 \n",
      "***\n",
      "\n",
      "Column:  Sex \n",
      "\n",
      "male      13298\n",
      "female    12323\n",
      "Name: Sex, dtype: int64 \n",
      "***\n",
      "\n",
      "Column:  Neutered \n",
      "\n",
      "neutered    18598\n",
      "intact       7023\n",
      "Name: Neutered, dtype: int64 \n",
      "***\n",
      "\n",
      "Column:  is_Breed \n",
      "\n",
      "Mix         21214\n",
      "Purebred     4407\n",
      "Name: is_Breed, dtype: int64 \n",
      "***\n",
      "\n",
      "Column:  is_Colorful \n",
      "\n",
      "Plain       24713\n",
      "Colorful      908\n",
      "Name: is_Colorful, dtype: int64 \n",
      "***\n",
      "\n"
     ]
    }
   ],
   "source": [
    "for i in obj_col:\n",
    "    print(\"Column: \", i, \"\\n\")\n",
    "    print(train[i].value_counts(),\"\\n***\\n\")"
   ]
  },
  {
   "cell_type": "markdown",
   "id": "bd1e28a9-cfb8-49a6-ba70-c7cbc12b9e65",
   "metadata": {},
   "source": [
    "What we learned from these plots:\n",
    "- animals get adopted more often than anything else;\n",
    "- fewer cats end up in the shelter, but this is not critical;\n",
    "- there are only two days on weekends, but almost half of the events fall on them;\n",
    "- the number of individuals of opposite sexes is almost the same;\n",
    "- there are many more neutered animals;\n",
    "- and the mix in color and breed, as expected, is more common."
   ]
  },
  {
   "cell_type": "code",
   "execution_count": 211,
   "id": "a139665d-c716-4f21-9554-1f0d83c4dba9",
   "metadata": {},
   "outputs": [
    {
     "data": {
      "text/plain": [
       "<AxesSubplot:xlabel='AnimalType', ylabel='count'>"
      ]
     },
     "execution_count": 211,
     "metadata": {},
     "output_type": "execute_result"
    },
    {
     "data": {
      "image/png": "[encoded data removed]",
      "text/plain": [
       "<Figure size 1152x288 with 2 Axes>"
      ]
     },
     "metadata": {
      "needs_background": "light"
     },
     "output_type": "display_data"
    }
   ],
   "source": [
    "f, (ax1, ax2) = plt.subplots(1, 2, figsize=(16, 4))\n",
    "sns.countplot(data=train, x='OutcomeType',hue='AnimalType', ax=ax1)\n",
    "sns.countplot(data=train, x='AnimalType',hue='OutcomeType', ax=ax2)"
   ]
  },
  {
   "cell_type": "markdown",
   "id": "7b7106e1-b5e9-4b88-8dfa-c80a8e20a41e",
   "metadata": {},
   "source": [
    "Dogs have higer chance to return to owner than cats. And the most popular outcome type for cats is transfer, when for dogs is adoption"
   ]
  },
  {
   "cell_type": "code",
   "execution_count": 212,
   "id": "9360ba5e-0f4e-4441-95b3-48791671c54a",
   "metadata": {},
   "outputs": [
    {
     "data": {
      "text/plain": [
       "<AxesSubplot:xlabel='DayOfWeek', ylabel='count'>"
      ]
     },
     "execution_count": 212,
     "metadata": {},
     "output_type": "execute_result"
    },
    {
     "data": {
      "image/png": "[encoded data removed]",
      "text/plain": [
       "<Figure size 1152x288 with 2 Axes>"
      ]
     },
     "metadata": {
      "needs_background": "light"
     },
     "output_type": "display_data"
    }
   ],
   "source": [
    "f, (ax1, ax2) = plt.subplots(1, 2, figsize=(16, 4))\n",
    "sns.countplot(data=train, x='OutcomeType',hue='DayOfWeek', ax=ax1)\n",
    "sns.countplot(data=train, x='DayOfWeek',hue='OutcomeType', ax=ax2)"
   ]
  },
  {
   "cell_type": "markdown",
   "id": "166bee62-8a9f-46c4-a4ab-acdd61dae288",
   "metadata": {},
   "source": [
    "Even though there are a lot of adoption on weekends. On weekdays, animals are still picked up more often, but transfers almost do not occur on weekends."
   ]
  },
  {
   "cell_type": "code",
   "execution_count": 213,
   "id": "e3c900af-72df-4acc-91a8-0187507c850e",
   "metadata": {},
   "outputs": [
    {
     "data": {
      "text/plain": [
       "<AxesSubplot:xlabel='Hour', ylabel='count'>"
      ]
     },
     "execution_count": 213,
     "metadata": {},
     "output_type": "execute_result"
    },
    {
     "data": {
      "image/png": "[encoded data removed]",
      "text/plain": [
       "<Figure size 1152x288 with 2 Axes>"
      ]
     },
     "metadata": {
      "needs_background": "light"
     },
     "output_type": "display_data"
    }
   ],
   "source": [
    "f, (ax1, ax2) = plt.subplots(1, 2, figsize=(16, 4))\n",
    "sns.countplot(data=train, x='OutcomeType',hue='Hour', ax=ax1)\n",
    "sns.countplot(data=train, x='Hour',hue='OutcomeType', ax=ax2)"
   ]
  },
  {
   "cell_type": "markdown",
   "id": "3ef407f6-3555-4c4f-9b7e-532e1d2dccad",
   "metadata": {},
   "source": [
    "The peak of adoption falls on 17 18 hours of the day. most likely because most of people end their work somewhere around this time. The transfer peak at midnight is also looks interesting."
   ]
  },
  {
   "cell_type": "code",
   "execution_count": 214,
   "id": "45cf40e4-deb9-4481-9d84-099cb9661e3a",
   "metadata": {},
   "outputs": [
    {
     "data": {
      "text/plain": [
       "<AxesSubplot:xlabel='is_Breed', ylabel='count'>"
      ]
     },
     "execution_count": 214,
     "metadata": {},
     "output_type": "execute_result"
    },
    {
     "data": {
      "image/png": "[encoded data removed]",
      "text/plain": [
       "<Figure size 1152x288 with 2 Axes>"
      ]
     },
     "metadata": {
      "needs_background": "light"
     },
     "output_type": "display_data"
    }
   ],
   "source": [
    "f, (ax1, ax2) = plt.subplots(1, 2, figsize=(16, 4))\n",
    "sns.countplot(data=train, x='OutcomeType',hue='is_Breed', ax=ax1)\n",
    "sns.countplot(data=train, x='is_Breed',hue='OutcomeType', ax=ax2)"
   ]
  },
  {
   "cell_type": "markdown",
   "id": "b04f578a-8f68-4d2d-836d-dadc8cbc5ea4",
   "metadata": {},
   "source": [
    "It seems that everything and everywhere is better for the mix, but in fact, on the right graph you can see that in both cases everything is the same, it’s just that there are fewer purebred animals themselves"
   ]
  },
  {
   "cell_type": "code",
   "execution_count": 215,
   "id": "bc1de44e-fb7d-4ee3-ba03-9666c9e41381",
   "metadata": {},
   "outputs": [
    {
     "data": {
      "text/plain": [
       "<AxesSubplot:xlabel='is_Colorful', ylabel='count'>"
      ]
     },
     "execution_count": 215,
     "metadata": {},
     "output_type": "execute_result"
    },
    {
     "data": {
      "image/png": "[encoded data removed]",
      "text/plain": [
       "<Figure size 1152x288 with 2 Axes>"
      ]
     },
     "metadata": {
      "needs_background": "light"
     },
     "output_type": "display_data"
    }
   ],
   "source": [
    "f, (ax1, ax2) = plt.subplots(1, 2, figsize=(16, 4))\n",
    "sns.countplot(data=train, x='OutcomeType',hue='is_Colorful', ax=ax1)\n",
    "sns.countplot(data=train, x='is_Colorful',hue='OutcomeType', ax=ax2)"
   ]
  },
  {
   "cell_type": "markdown",
   "id": "21ef029e-12aa-45b5-a248-1d6f19af40f2",
   "metadata": {},
   "source": [
    "Same... Looks like my assumption was wrong"
   ]
  },
  {
   "cell_type": "code",
   "execution_count": 216,
   "id": "b16b9695-804b-46ed-b838-6d1f7c4ebca8",
   "metadata": {},
   "outputs": [
    {
     "data": {
      "text/plain": [
       "<AxesSubplot:xlabel='Neutered', ylabel='count'>"
      ]
     },
     "execution_count": 216,
     "metadata": {},
     "output_type": "execute_result"
    },
    {
     "data": {
      "image/png": "[encoded data removed]",
      "text/plain": [
       "<Figure size 1152x288 with 2 Axes>"
      ]
     },
     "metadata": {
      "needs_background": "light"
     },
     "output_type": "display_data"
    }
   ],
   "source": [
    "f, (ax1, ax2) = plt.subplots(1, 2, figsize=(16, 4))\n",
    "sns.countplot(data=train, x='OutcomeType',hue='Neutered', ax=ax1)\n",
    "sns.countplot(data=train, x='Neutered',hue='OutcomeType', ax=ax2)"
   ]
  },
  {
   "cell_type": "markdown",
   "id": "09b96444-7ae7-4c23-8c9e-387d1b407e10",
   "metadata": {},
   "source": [
    "It can be seen that the castrated are taken more often and not the castrated are transfer more often. It is worth looking at the connection of castration with the type of animal"
   ]
  },
  {
   "cell_type": "code",
   "execution_count": 217,
   "id": "bcf5927a-4db9-4bcf-a465-b4f92ebff8da",
   "metadata": {},
   "outputs": [
    {
     "data": {
      "text/plain": [
       "<AxesSubplot:xlabel='AnimalType', ylabel='count'>"
      ]
     },
     "execution_count": 217,
     "metadata": {},
     "output_type": "execute_result"
    },
    {
     "data": {
      "image/png": "[encoded data removed]",
      "text/plain": [
       "<Figure size 1152x288 with 2 Axes>"
      ]
     },
     "metadata": {
      "needs_background": "light"
     },
     "output_type": "display_data"
    }
   ],
   "source": [
    "f, (ax1, ax2) = plt.subplots(1, 2, figsize=(16, 4))\n",
    "sns.countplot(data=train, x='Neutered',hue='AnimalType', ax=ax1)\n",
    "sns.countplot(data=train, x='AnimalType',hue='Neutered', ax=ax2)"
   ]
  },
  {
   "cell_type": "markdown",
   "id": "34c6a90a-c4db-4eb5-903c-02f11bf65a82",
   "metadata": {},
   "source": [
    "Cats remain intact more often than dogs. But still they are castrated in a little more than half of the cases."
   ]
  },
  {
   "cell_type": "code",
   "execution_count": 218,
   "id": "827a6f3b-8235-4af1-b68d-48cad25e05c0",
   "metadata": {},
   "outputs": [
    {
     "data": {
      "text/plain": [
       "<AxesSubplot:xlabel='Sex', ylabel='count'>"
      ]
     },
     "execution_count": 218,
     "metadata": {},
     "output_type": "execute_result"
    },
    {
     "data": {
      "image/png": "[encoded data removed]",
      "text/plain": [
       "<Figure size 1152x288 with 2 Axes>"
      ]
     },
     "metadata": {
      "needs_background": "light"
     },
     "output_type": "display_data"
    }
   ],
   "source": [
    "f, (ax1, ax2) = plt.subplots(1, 2, figsize=(16, 4))\n",
    "sns.countplot(data=train, x='OutcomeType',hue='Sex', ax=ax1)\n",
    "sns.countplot(data=train, x='Sex',hue='OutcomeType', ax=ax2)"
   ]
  },
  {
   "cell_type": "markdown",
   "id": "6b8f7ada-48b9-46bc-ba38-7966a18702bb",
   "metadata": {},
   "source": [
    "No useful information here"
   ]
  },
  {
   "cell_type": "code",
   "execution_count": 219,
   "id": "1da967c7-e077-4b15-8a22-b058599179eb",
   "metadata": {},
   "outputs": [
    {
     "data": {
      "text/plain": [
       "Text(0.5, 1.0, 'AgeuponOutcome')"
      ]
     },
     "execution_count": 219,
     "metadata": {},
     "output_type": "execute_result"
    },
    {
     "data": {
      "image/png": "[encoded data removed]",
      "text/plain": [
       "<Figure size 432x288 with 1 Axes>"
      ]
     },
     "metadata": {
      "needs_background": "light"
     },
     "output_type": "display_data"
    }
   ],
   "source": [
    "plt.hist(train['AgeuponOutcome'])\n",
    "ax.set_title('AgeuponOutcome')"
   ]
  },
  {
   "cell_type": "markdown",
   "id": "8d901e4b-846e-4512-9b6f-bcfd9b1bbbf7",
   "metadata": {},
   "source": [
    "Let's divide age into 4 parts."
   ]
  },
  {
   "cell_type": "code",
   "execution_count": 220,
   "id": "c8b1659e-0e2c-44f4-a73b-aecb34609436",
   "metadata": {},
   "outputs": [],
   "source": [
    "def age_category(x):\n",
    "    if x <= 36: return 'young'\n",
    "    if x <= 60: return 'young adult'\n",
    "    if x <= 120: return 'adult'\n",
    "    return 'old'\n",
    "train['AgeCategory'] = train.AgeuponOutcome.apply(age_category)"
   ]
  },
  {
   "cell_type": "code",
   "execution_count": 221,
   "id": "88d8f884-9501-4ec0-8bb8-0ab0b8b34346",
   "metadata": {},
   "outputs": [
    {
     "data": {
      "text/plain": [
       "<AxesSubplot:xlabel='AgeCategory', ylabel='count'>"
      ]
     },
     "execution_count": 221,
     "metadata": {},
     "output_type": "execute_result"
    },
    {
     "data": {
      "image/png": "[encoded data removed]",
      "text/plain": [
       "<Figure size 1152x288 with 2 Axes>"
      ]
     },
     "metadata": {
      "needs_background": "light"
     },
     "output_type": "display_data"
    }
   ],
   "source": [
    "f, (ax1, ax2) = plt.subplots(1, 2, figsize=(16, 4))\n",
    "sns.countplot(data=train, x='OutcomeType',hue='AgeCategory', ax=ax1)\n",
    "sns.countplot(data=train, x='AgeCategory',hue='OutcomeType', ax=ax2)"
   ]
  },
  {
   "cell_type": "markdown",
   "id": "f05f0775-8e3a-4b61-a728-7f0796b3cd0e",
   "metadata": {},
   "source": [
    "The younger you are, the more likely you are to be adopted."
   ]
  },
  {
   "cell_type": "markdown",
   "id": "e9db958e-79c1-4bd0-839c-b07f9b2f0c34",
   "metadata": {},
   "source": [
    "##  Feature Selection"
   ]
  },
  {
   "cell_type": "code",
   "execution_count": 222,
   "id": "95481271-5929-4dd2-ba77-bf5060ceccbd",
   "metadata": {
    "tags": []
   },
   "outputs": [],
   "source": [
    "train = train.drop(['is_Breed','is_Colorful',\"AgeCategory\"],axis = 1)\n",
    "train.reset_index(drop= True , inplace= True )"
   ]
  },
  {
   "cell_type": "markdown",
   "id": "b5d5ba60-96b5-4eb4-ad33-2d25d98156de",
   "metadata": {},
   "source": [
    "Let's delete columns that we won't use for training."
   ]
  },
  {
   "cell_type": "code",
   "execution_count": 223,
   "id": "28c1018c-e014-4a5a-b20f-437c83f6af61",
   "metadata": {},
   "outputs": [
    {
     "data": {
      "text/html": [
       "<div>\n",
       "<style scoped>\n",
       "    .dataframe tbody tr th:only-of-type {\n",
       "        vertical-align: middle;\n",
       "    }\n",
       "\n",
       "    .dataframe tbody tr th {\n",
       "        vertical-align: top;\n",
       "    }\n",
       "\n",
       "    .dataframe thead th {\n",
       "        text-align: right;\n",
       "    }\n",
       "</style>\n",
       "<table border=\"1\" class=\"dataframe\">\n",
       "  <thead>\n",
       "    <tr style=\"text-align: right;\">\n",
       "      <th></th>\n",
       "      <th>OutcomeType</th>\n",
       "      <th>AnimalType</th>\n",
       "      <th>AgeuponOutcome</th>\n",
       "      <th>Breed</th>\n",
       "      <th>Color</th>\n",
       "      <th>Month</th>\n",
       "      <th>DayOfWeek</th>\n",
       "      <th>Hour</th>\n",
       "      <th>Sex</th>\n",
       "      <th>Neutered</th>\n",
       "    </tr>\n",
       "  </thead>\n",
       "  <tbody>\n",
       "    <tr>\n",
       "      <th>0</th>\n",
       "      <td>Return_to_owner</td>\n",
       "      <td>Dog</td>\n",
       "      <td>12</td>\n",
       "      <td>Shetland Sheepdog Mix</td>\n",
       "      <td>Brown White</td>\n",
       "      <td>2</td>\n",
       "      <td>usual_day</td>\n",
       "      <td>18</td>\n",
       "      <td>male</td>\n",
       "      <td>neutered</td>\n",
       "    </tr>\n",
       "    <tr>\n",
       "      <th>1</th>\n",
       "      <td>Died</td>\n",
       "      <td>Cat</td>\n",
       "      <td>12</td>\n",
       "      <td>Domestic Shorthair Mix</td>\n",
       "      <td>Cream Tabby</td>\n",
       "      <td>10</td>\n",
       "      <td>weekend</td>\n",
       "      <td>12</td>\n",
       "      <td>female</td>\n",
       "      <td>neutered</td>\n",
       "    </tr>\n",
       "    <tr>\n",
       "      <th>2</th>\n",
       "      <td>Adoption</td>\n",
       "      <td>Dog</td>\n",
       "      <td>24</td>\n",
       "      <td>Pit Bull Mix</td>\n",
       "      <td>Blue White</td>\n",
       "      <td>1</td>\n",
       "      <td>weekend</td>\n",
       "      <td>12</td>\n",
       "      <td>male</td>\n",
       "      <td>neutered</td>\n",
       "    </tr>\n",
       "    <tr>\n",
       "      <th>3</th>\n",
       "      <td>Transfer</td>\n",
       "      <td>Cat</td>\n",
       "      <td>0</td>\n",
       "      <td>Domestic Shorthair Mix</td>\n",
       "      <td>Blue Cream</td>\n",
       "      <td>7</td>\n",
       "      <td>usual_day</td>\n",
       "      <td>19</td>\n",
       "      <td>male</td>\n",
       "      <td>intact</td>\n",
       "    </tr>\n",
       "    <tr>\n",
       "      <th>4</th>\n",
       "      <td>Transfer</td>\n",
       "      <td>Dog</td>\n",
       "      <td>24</td>\n",
       "      <td>Lhasa Apso Miniature Poodle</td>\n",
       "      <td>Tan</td>\n",
       "      <td>11</td>\n",
       "      <td>usual_day</td>\n",
       "      <td>12</td>\n",
       "      <td>male</td>\n",
       "      <td>neutered</td>\n",
       "    </tr>\n",
       "  </tbody>\n",
       "</table>\n",
       "</div>"
      ],
      "text/plain": [
       "       OutcomeType AnimalType  AgeuponOutcome                        Breed  \\\n",
       "0  Return_to_owner        Dog              12        Shetland Sheepdog Mix   \n",
       "1             Died        Cat              12       Domestic Shorthair Mix   \n",
       "2         Adoption        Dog              24                 Pit Bull Mix   \n",
       "3         Transfer        Cat               0       Domestic Shorthair Mix   \n",
       "4         Transfer        Dog              24  Lhasa Apso Miniature Poodle   \n",
       "\n",
       "         Color  Month  DayOfWeek  Hour     Sex  Neutered  \n",
       "0  Brown White      2  usual_day    18    male  neutered  \n",
       "1  Cream Tabby     10    weekend    12  female  neutered  \n",
       "2   Blue White      1    weekend    12    male  neutered  \n",
       "3   Blue Cream      7  usual_day    19    male    intact  \n",
       "4          Tan     11  usual_day    12    male  neutered  "
      ]
     },
     "execution_count": 223,
     "metadata": {},
     "output_type": "execute_result"
    }
   ],
   "source": [
    "train.head()"
   ]
  },
  {
   "cell_type": "markdown",
   "id": "519e333d-bf2b-4151-b10d-65ef807b58af",
   "metadata": {},
   "source": [
    "We will split train and test set and create Y for multiclass and binary classification."
   ]
  },
  {
   "cell_type": "code",
   "execution_count": 224,
   "id": "7437e604-7fac-44fa-8f17-c74acfc5d46e",
   "metadata": {},
   "outputs": [],
   "source": [
    "X = train.drop(\"OutcomeType\", axis=1)\n",
    "Y = train[\"OutcomeType\"].copy()"
   ]
  },
  {
   "cell_type": "code",
   "execution_count": 225,
   "id": "6c107c4e-6155-471d-b318-11fe9249b8e3",
   "metadata": {},
   "outputs": [],
   "source": [
    "Y_encoder = LabelEncoder()"
   ]
  },
  {
   "cell_type": "code",
   "execution_count": 226,
   "id": "ef14d64d-c0b0-4c0a-bae3-8840da799b89",
   "metadata": {},
   "outputs": [],
   "source": [
    "Y_mul = Y"
   ]
  },
  {
   "cell_type": "code",
   "execution_count": 227,
   "id": "77451bdc-70e5-4a72-a134-164d263e210e",
   "metadata": {},
   "outputs": [],
   "source": [
    "Y = Y.replace(to_replace=['Died', 'Divorced','Return_to_owner','Transfer'], value='Not_adopted')"
   ]
  },
  {
   "cell_type": "code",
   "execution_count": 228,
   "id": "17111b13-2d1d-4bc0-84b1-403fe0dd51bd",
   "metadata": {},
   "outputs": [
    {
     "data": {
      "text/plain": [
       "Not_adopted    14852\n",
       "Adoption       10769\n",
       "Name: OutcomeType, dtype: int64"
      ]
     },
     "execution_count": 228,
     "metadata": {},
     "output_type": "execute_result"
    }
   ],
   "source": [
    "Y.value_counts()"
   ]
  },
  {
   "cell_type": "code",
   "execution_count": 229,
   "id": "4f9e184b-0e01-470d-b2bb-ae85fb09b96e",
   "metadata": {},
   "outputs": [],
   "source": [
    "Y = Y_encoder.fit_transform(Y)"
   ]
  },
  {
   "cell_type": "code",
   "execution_count": 230,
   "id": "f257e314-c8b1-4836-bd70-693c436fdc2d",
   "metadata": {},
   "outputs": [
    {
     "data": {
      "text/plain": [
       "array(['Adoption', 'Not_adopted'], dtype=object)"
      ]
     },
     "execution_count": 230,
     "metadata": {},
     "output_type": "execute_result"
    }
   ],
   "source": [
    "Y_encoder.classes_"
   ]
  },
  {
   "cell_type": "code",
   "execution_count": 231,
   "id": "eae672ab-442d-40b8-a74c-03629451dc46",
   "metadata": {
    "tags": []
   },
   "outputs": [
    {
     "data": {
      "text/plain": [
       "array([1, 1, 0, ..., 0, 1, 1])"
      ]
     },
     "execution_count": 231,
     "metadata": {},
     "output_type": "execute_result"
    }
   ],
   "source": [
    "Y"
   ]
  },
  {
   "cell_type": "markdown",
   "id": "eeaee1f3-3745-42e2-89b8-7bd15d53235c",
   "metadata": {},
   "source": [
    "Then it's time to convert our text columns to numerical data. I will use CountVectorizer"
   ]
  },
  {
   "cell_type": "code",
   "execution_count": 232,
   "id": "49349f3a-bccd-4ef2-b87a-b751807d5eaf",
   "metadata": {},
   "outputs": [],
   "source": [
    "color_vectorizer = CountVectorizer()\n",
    "bag_of_words = color_vectorizer.fit_transform(X['Color'])\n",
    "bag_of_color = pd.DataFrame(bag_of_words.toarray(), columns = color_vectorizer.get_feature_names())\n",
    "breed_vectorizer = CountVectorizer()\n",
    "bag_of_words = breed_vectorizer.fit_transform(X['Breed'])\n",
    "bag_of_breed = pd.DataFrame(bag_of_words.toarray(), columns = breed_vectorizer.get_feature_names())"
   ]
  },
  {
   "cell_type": "code",
   "execution_count": 233,
   "id": "4af56bd4-735e-44f7-b66d-0ca431a92436",
   "metadata": {},
   "outputs": [
    {
     "data": {
      "text/html": [
       "<div>\n",
       "<style scoped>\n",
       "    .dataframe tbody tr th:only-of-type {\n",
       "        vertical-align: middle;\n",
       "    }\n",
       "\n",
       "    .dataframe tbody tr th {\n",
       "        vertical-align: top;\n",
       "    }\n",
       "\n",
       "    .dataframe thead th {\n",
       "        text-align: right;\n",
       "    }\n",
       "</style>\n",
       "<table border=\"1\" class=\"dataframe\">\n",
       "  <thead>\n",
       "    <tr style=\"text-align: right;\">\n",
       "      <th></th>\n",
       "      <th>abyssinian</th>\n",
       "      <th>affenpinscher</th>\n",
       "      <th>afghan</th>\n",
       "      <th>airedale</th>\n",
       "      <th>akita</th>\n",
       "      <th>alaskan</th>\n",
       "      <th>american</th>\n",
       "      <th>anatol</th>\n",
       "      <th>angora</th>\n",
       "      <th>apso</th>\n",
       "      <th>...</th>\n",
       "      <th>weimaraner</th>\n",
       "      <th>welsh</th>\n",
       "      <th>west</th>\n",
       "      <th>wheaten</th>\n",
       "      <th>whippet</th>\n",
       "      <th>wire</th>\n",
       "      <th>wirehair</th>\n",
       "      <th>wirehaired</th>\n",
       "      <th>wolfhound</th>\n",
       "      <th>yorkshire</th>\n",
       "    </tr>\n",
       "  </thead>\n",
       "  <tbody>\n",
       "    <tr>\n",
       "      <th>0</th>\n",
       "      <td>0</td>\n",
       "      <td>0</td>\n",
       "      <td>0</td>\n",
       "      <td>0</td>\n",
       "      <td>0</td>\n",
       "      <td>0</td>\n",
       "      <td>0</td>\n",
       "      <td>0</td>\n",
       "      <td>0</td>\n",
       "      <td>0</td>\n",
       "      <td>...</td>\n",
       "      <td>0</td>\n",
       "      <td>0</td>\n",
       "      <td>0</td>\n",
       "      <td>0</td>\n",
       "      <td>0</td>\n",
       "      <td>0</td>\n",
       "      <td>0</td>\n",
       "      <td>0</td>\n",
       "      <td>0</td>\n",
       "      <td>0</td>\n",
       "    </tr>\n",
       "    <tr>\n",
       "      <th>1</th>\n",
       "      <td>0</td>\n",
       "      <td>0</td>\n",
       "      <td>0</td>\n",
       "      <td>0</td>\n",
       "      <td>0</td>\n",
       "      <td>0</td>\n",
       "      <td>0</td>\n",
       "      <td>0</td>\n",
       "      <td>0</td>\n",
       "      <td>0</td>\n",
       "      <td>...</td>\n",
       "      <td>0</td>\n",
       "      <td>0</td>\n",
       "      <td>0</td>\n",
       "      <td>0</td>\n",
       "      <td>0</td>\n",
       "      <td>0</td>\n",
       "      <td>0</td>\n",
       "      <td>0</td>\n",
       "      <td>0</td>\n",
       "      <td>0</td>\n",
       "    </tr>\n",
       "    <tr>\n",
       "      <th>2</th>\n",
       "      <td>0</td>\n",
       "      <td>0</td>\n",
       "      <td>0</td>\n",
       "      <td>0</td>\n",
       "      <td>0</td>\n",
       "      <td>0</td>\n",
       "      <td>0</td>\n",
       "      <td>0</td>\n",
       "      <td>0</td>\n",
       "      <td>0</td>\n",
       "      <td>...</td>\n",
       "      <td>0</td>\n",
       "      <td>0</td>\n",
       "      <td>0</td>\n",
       "      <td>0</td>\n",
       "      <td>0</td>\n",
       "      <td>0</td>\n",
       "      <td>0</td>\n",
       "      <td>0</td>\n",
       "      <td>0</td>\n",
       "      <td>0</td>\n",
       "    </tr>\n",
       "    <tr>\n",
       "      <th>3</th>\n",
       "      <td>0</td>\n",
       "      <td>0</td>\n",
       "      <td>0</td>\n",
       "      <td>0</td>\n",
       "      <td>0</td>\n",
       "      <td>0</td>\n",
       "      <td>0</td>\n",
       "      <td>0</td>\n",
       "      <td>0</td>\n",
       "      <td>0</td>\n",
       "      <td>...</td>\n",
       "      <td>0</td>\n",
       "      <td>0</td>\n",
       "      <td>0</td>\n",
       "      <td>0</td>\n",
       "      <td>0</td>\n",
       "      <td>0</td>\n",
       "      <td>0</td>\n",
       "      <td>0</td>\n",
       "      <td>0</td>\n",
       "      <td>0</td>\n",
       "    </tr>\n",
       "    <tr>\n",
       "      <th>4</th>\n",
       "      <td>0</td>\n",
       "      <td>0</td>\n",
       "      <td>0</td>\n",
       "      <td>0</td>\n",
       "      <td>0</td>\n",
       "      <td>0</td>\n",
       "      <td>0</td>\n",
       "      <td>0</td>\n",
       "      <td>0</td>\n",
       "      <td>1</td>\n",
       "      <td>...</td>\n",
       "      <td>0</td>\n",
       "      <td>0</td>\n",
       "      <td>0</td>\n",
       "      <td>0</td>\n",
       "      <td>0</td>\n",
       "      <td>0</td>\n",
       "      <td>0</td>\n",
       "      <td>0</td>\n",
       "      <td>0</td>\n",
       "      <td>0</td>\n",
       "    </tr>\n",
       "    <tr>\n",
       "      <th>...</th>\n",
       "      <td>...</td>\n",
       "      <td>...</td>\n",
       "      <td>...</td>\n",
       "      <td>...</td>\n",
       "      <td>...</td>\n",
       "      <td>...</td>\n",
       "      <td>...</td>\n",
       "      <td>...</td>\n",
       "      <td>...</td>\n",
       "      <td>...</td>\n",
       "      <td>...</td>\n",
       "      <td>...</td>\n",
       "      <td>...</td>\n",
       "      <td>...</td>\n",
       "      <td>...</td>\n",
       "      <td>...</td>\n",
       "      <td>...</td>\n",
       "      <td>...</td>\n",
       "      <td>...</td>\n",
       "      <td>...</td>\n",
       "      <td>...</td>\n",
       "    </tr>\n",
       "    <tr>\n",
       "      <th>25616</th>\n",
       "      <td>0</td>\n",
       "      <td>0</td>\n",
       "      <td>0</td>\n",
       "      <td>0</td>\n",
       "      <td>0</td>\n",
       "      <td>0</td>\n",
       "      <td>0</td>\n",
       "      <td>0</td>\n",
       "      <td>0</td>\n",
       "      <td>0</td>\n",
       "      <td>...</td>\n",
       "      <td>0</td>\n",
       "      <td>0</td>\n",
       "      <td>0</td>\n",
       "      <td>0</td>\n",
       "      <td>0</td>\n",
       "      <td>0</td>\n",
       "      <td>0</td>\n",
       "      <td>0</td>\n",
       "      <td>0</td>\n",
       "      <td>0</td>\n",
       "    </tr>\n",
       "    <tr>\n",
       "      <th>25617</th>\n",
       "      <td>0</td>\n",
       "      <td>0</td>\n",
       "      <td>0</td>\n",
       "      <td>0</td>\n",
       "      <td>0</td>\n",
       "      <td>0</td>\n",
       "      <td>0</td>\n",
       "      <td>0</td>\n",
       "      <td>0</td>\n",
       "      <td>0</td>\n",
       "      <td>...</td>\n",
       "      <td>0</td>\n",
       "      <td>0</td>\n",
       "      <td>0</td>\n",
       "      <td>0</td>\n",
       "      <td>0</td>\n",
       "      <td>0</td>\n",
       "      <td>0</td>\n",
       "      <td>0</td>\n",
       "      <td>0</td>\n",
       "      <td>0</td>\n",
       "    </tr>\n",
       "    <tr>\n",
       "      <th>25618</th>\n",
       "      <td>0</td>\n",
       "      <td>0</td>\n",
       "      <td>0</td>\n",
       "      <td>0</td>\n",
       "      <td>0</td>\n",
       "      <td>0</td>\n",
       "      <td>0</td>\n",
       "      <td>0</td>\n",
       "      <td>0</td>\n",
       "      <td>0</td>\n",
       "      <td>...</td>\n",
       "      <td>0</td>\n",
       "      <td>0</td>\n",
       "      <td>0</td>\n",
       "      <td>0</td>\n",
       "      <td>0</td>\n",
       "      <td>0</td>\n",
       "      <td>0</td>\n",
       "      <td>0</td>\n",
       "      <td>0</td>\n",
       "      <td>0</td>\n",
       "    </tr>\n",
       "    <tr>\n",
       "      <th>25619</th>\n",
       "      <td>0</td>\n",
       "      <td>0</td>\n",
       "      <td>0</td>\n",
       "      <td>0</td>\n",
       "      <td>0</td>\n",
       "      <td>0</td>\n",
       "      <td>0</td>\n",
       "      <td>0</td>\n",
       "      <td>0</td>\n",
       "      <td>0</td>\n",
       "      <td>...</td>\n",
       "      <td>0</td>\n",
       "      <td>0</td>\n",
       "      <td>0</td>\n",
       "      <td>0</td>\n",
       "      <td>0</td>\n",
       "      <td>0</td>\n",
       "      <td>0</td>\n",
       "      <td>0</td>\n",
       "      <td>0</td>\n",
       "      <td>0</td>\n",
       "    </tr>\n",
       "    <tr>\n",
       "      <th>25620</th>\n",
       "      <td>0</td>\n",
       "      <td>0</td>\n",
       "      <td>0</td>\n",
       "      <td>0</td>\n",
       "      <td>0</td>\n",
       "      <td>0</td>\n",
       "      <td>0</td>\n",
       "      <td>0</td>\n",
       "      <td>0</td>\n",
       "      <td>0</td>\n",
       "      <td>...</td>\n",
       "      <td>0</td>\n",
       "      <td>0</td>\n",
       "      <td>0</td>\n",
       "      <td>0</td>\n",
       "      <td>0</td>\n",
       "      <td>0</td>\n",
       "      <td>0</td>\n",
       "      <td>0</td>\n",
       "      <td>0</td>\n",
       "      <td>0</td>\n",
       "    </tr>\n",
       "  </tbody>\n",
       "</table>\n",
       "<p>25621 rows × 262 columns</p>\n",
       "</div>"
      ],
      "text/plain": [
       "       abyssinian  affenpinscher  afghan  airedale  akita  alaskan  american  \\\n",
       "0               0              0       0         0      0        0         0   \n",
       "1               0              0       0         0      0        0         0   \n",
       "2               0              0       0         0      0        0         0   \n",
       "3               0              0       0         0      0        0         0   \n",
       "4               0              0       0         0      0        0         0   \n",
       "...           ...            ...     ...       ...    ...      ...       ...   \n",
       "25616           0              0       0         0      0        0         0   \n",
       "25617           0              0       0         0      0        0         0   \n",
       "25618           0              0       0         0      0        0         0   \n",
       "25619           0              0       0         0      0        0         0   \n",
       "25620           0              0       0         0      0        0         0   \n",
       "\n",
       "       anatol  angora  apso  ...  weimaraner  welsh  west  wheaten  whippet  \\\n",
       "0           0       0     0  ...           0      0     0        0        0   \n",
       "1           0       0     0  ...           0      0     0        0        0   \n",
       "2           0       0     0  ...           0      0     0        0        0   \n",
       "3           0       0     0  ...           0      0     0        0        0   \n",
       "4           0       0     1  ...           0      0     0        0        0   \n",
       "...       ...     ...   ...  ...         ...    ...   ...      ...      ...   \n",
       "25616       0       0     0  ...           0      0     0        0        0   \n",
       "25617       0       0     0  ...           0      0     0        0        0   \n",
       "25618       0       0     0  ...           0      0     0        0        0   \n",
       "25619       0       0     0  ...           0      0     0        0        0   \n",
       "25620       0       0     0  ...           0      0     0        0        0   \n",
       "\n",
       "       wire  wirehair  wirehaired  wolfhound  yorkshire  \n",
       "0         0         0           0          0          0  \n",
       "1         0         0           0          0          0  \n",
       "2         0         0           0          0          0  \n",
       "3         0         0           0          0          0  \n",
       "4         0         0           0          0          0  \n",
       "...     ...       ...         ...        ...        ...  \n",
       "25616     0         0           0          0          0  \n",
       "25617     0         0           0          0          0  \n",
       "25618     0         0           0          0          0  \n",
       "25619     0         0           0          0          0  \n",
       "25620     0         0           0          0          0  \n",
       "\n",
       "[25621 rows x 262 columns]"
      ]
     },
     "execution_count": 233,
     "metadata": {},
     "output_type": "execute_result"
    }
   ],
   "source": [
    "bag_of_breed"
   ]
  },
  {
   "cell_type": "markdown",
   "id": "fe8d8b06-cab4-41c4-af75-8b148079c725",
   "metadata": {},
   "source": [
    "After this encode categorical and some of numerical data"
   ]
  },
  {
   "cell_type": "code",
   "execution_count": 234,
   "id": "732ae783-3af9-4187-a534-b99603e5eb21",
   "metadata": {},
   "outputs": [],
   "source": [
    "labelencoder = LabelEncoder()\n",
    "def Encode(train_set, rows_to_le, rows_to_oe, rows_to_let):\n",
    "    for i in rows_to_le:\n",
    "        train_set[i] = labelencoder.fit_transform(train_set[i])\n",
    "    for i in rows_to_oe:\n",
    "        train_set = pd.get_dummies(data=train_set,columns=[i])\n",
    "    for i in rows_to_let:\n",
    "        train_set[i] = labelencoder.transform(train_set[i])\n",
    "    return train_set"
   ]
  },
  {
   "cell_type": "code",
   "execution_count": 235,
   "id": "650525d2-35df-4360-8702-7bd32eaa3d42",
   "metadata": {},
   "outputs": [],
   "source": [
    "oe = ['AnimalType','Sex','Neutered']\n",
    "le =['DayOfWeek']\n",
    "X = Encode(X,le,oe,[])"
   ]
  },
  {
   "cell_type": "code",
   "execution_count": 236,
   "id": "eaebc83c-f70e-4d29-9a7f-b92875e92f45",
   "metadata": {},
   "outputs": [
    {
     "data": {
      "text/html": [
       "<div>\n",
       "<style scoped>\n",
       "    .dataframe tbody tr th:only-of-type {\n",
       "        vertical-align: middle;\n",
       "    }\n",
       "\n",
       "    .dataframe tbody tr th {\n",
       "        vertical-align: top;\n",
       "    }\n",
       "\n",
       "    .dataframe thead th {\n",
       "        text-align: right;\n",
       "    }\n",
       "</style>\n",
       "<table border=\"1\" class=\"dataframe\">\n",
       "  <thead>\n",
       "    <tr style=\"text-align: right;\">\n",
       "      <th></th>\n",
       "      <th>AgeuponOutcome</th>\n",
       "      <th>Breed</th>\n",
       "      <th>Color</th>\n",
       "      <th>Month</th>\n",
       "      <th>DayOfWeek</th>\n",
       "      <th>Hour</th>\n",
       "      <th>AnimalType_Cat</th>\n",
       "      <th>AnimalType_Dog</th>\n",
       "      <th>Sex_female</th>\n",
       "      <th>Sex_male</th>\n",
       "      <th>Neutered_intact</th>\n",
       "      <th>Neutered_neutered</th>\n",
       "    </tr>\n",
       "  </thead>\n",
       "  <tbody>\n",
       "    <tr>\n",
       "      <th>0</th>\n",
       "      <td>12</td>\n",
       "      <td>Shetland Sheepdog Mix</td>\n",
       "      <td>Brown White</td>\n",
       "      <td>2</td>\n",
       "      <td>0</td>\n",
       "      <td>18</td>\n",
       "      <td>0</td>\n",
       "      <td>1</td>\n",
       "      <td>0</td>\n",
       "      <td>1</td>\n",
       "      <td>0</td>\n",
       "      <td>1</td>\n",
       "    </tr>\n",
       "    <tr>\n",
       "      <th>1</th>\n",
       "      <td>12</td>\n",
       "      <td>Domestic Shorthair Mix</td>\n",
       "      <td>Cream Tabby</td>\n",
       "      <td>10</td>\n",
       "      <td>1</td>\n",
       "      <td>12</td>\n",
       "      <td>1</td>\n",
       "      <td>0</td>\n",
       "      <td>1</td>\n",
       "      <td>0</td>\n",
       "      <td>0</td>\n",
       "      <td>1</td>\n",
       "    </tr>\n",
       "    <tr>\n",
       "      <th>2</th>\n",
       "      <td>24</td>\n",
       "      <td>Pit Bull Mix</td>\n",
       "      <td>Blue White</td>\n",
       "      <td>1</td>\n",
       "      <td>1</td>\n",
       "      <td>12</td>\n",
       "      <td>0</td>\n",
       "      <td>1</td>\n",
       "      <td>0</td>\n",
       "      <td>1</td>\n",
       "      <td>0</td>\n",
       "      <td>1</td>\n",
       "    </tr>\n",
       "    <tr>\n",
       "      <th>3</th>\n",
       "      <td>0</td>\n",
       "      <td>Domestic Shorthair Mix</td>\n",
       "      <td>Blue Cream</td>\n",
       "      <td>7</td>\n",
       "      <td>0</td>\n",
       "      <td>19</td>\n",
       "      <td>1</td>\n",
       "      <td>0</td>\n",
       "      <td>0</td>\n",
       "      <td>1</td>\n",
       "      <td>1</td>\n",
       "      <td>0</td>\n",
       "    </tr>\n",
       "    <tr>\n",
       "      <th>4</th>\n",
       "      <td>24</td>\n",
       "      <td>Lhasa Apso Miniature Poodle</td>\n",
       "      <td>Tan</td>\n",
       "      <td>11</td>\n",
       "      <td>0</td>\n",
       "      <td>12</td>\n",
       "      <td>0</td>\n",
       "      <td>1</td>\n",
       "      <td>0</td>\n",
       "      <td>1</td>\n",
       "      <td>0</td>\n",
       "      <td>1</td>\n",
       "    </tr>\n",
       "  </tbody>\n",
       "</table>\n",
       "</div>"
      ],
      "text/plain": [
       "   AgeuponOutcome                        Breed        Color  Month  DayOfWeek  \\\n",
       "0              12        Shetland Sheepdog Mix  Brown White      2          0   \n",
       "1              12       Domestic Shorthair Mix  Cream Tabby     10          1   \n",
       "2              24                 Pit Bull Mix   Blue White      1          1   \n",
       "3               0       Domestic Shorthair Mix   Blue Cream      7          0   \n",
       "4              24  Lhasa Apso Miniature Poodle          Tan     11          0   \n",
       "\n",
       "   Hour  AnimalType_Cat  AnimalType_Dog  Sex_female  Sex_male  \\\n",
       "0    18               0               1           0         1   \n",
       "1    12               1               0           1         0   \n",
       "2    12               0               1           0         1   \n",
       "3    19               1               0           0         1   \n",
       "4    12               0               1           0         1   \n",
       "\n",
       "   Neutered_intact  Neutered_neutered  \n",
       "0                0                  1  \n",
       "1                0                  1  \n",
       "2                0                  1  \n",
       "3                1                  0  \n",
       "4                0                  1  "
      ]
     },
     "execution_count": 236,
     "metadata": {},
     "output_type": "execute_result"
    }
   ],
   "source": [
    "X.head()"
   ]
  },
  {
   "cell_type": "markdown",
   "id": "ebeb0188-9416-47b2-bfc3-cc27dd492f7c",
   "metadata": {},
   "source": [
    "And put it all together"
   ]
  },
  {
   "cell_type": "code",
   "execution_count": 237,
   "id": "a647c973-02b8-4ef5-8dd9-4951a22d18ff",
   "metadata": {},
   "outputs": [],
   "source": [
    "result = pd.concat([X, bag_of_breed,bag_of_color], axis=1)\n",
    "X = result"
   ]
  },
  {
   "cell_type": "code",
   "execution_count": 238,
   "id": "d9ea03a9-2d30-45e3-86cc-88c95cbecbd5",
   "metadata": {},
   "outputs": [],
   "source": [
    "X = X.drop(['Breed','Color'], axis = 1)"
   ]
  },
  {
   "cell_type": "code",
   "execution_count": 239,
   "id": "8fc3fbf0-087f-4615-b4a5-aebfc743ffc8",
   "metadata": {},
   "outputs": [],
   "source": [
    "def age_category(x):\n",
    "    if x < 36: return 0\n",
    "    if x < 60: return 1\n",
    "    if x < 120: return 2\n",
    "    return 3\n",
    "train['AgeuponOutcome'] = train.AgeuponOutcome.apply(age_category)"
   ]
  },
  {
   "cell_type": "code",
   "execution_count": 240,
   "id": "b47af441-8b43-4a21-bf4e-406c15128c3c",
   "metadata": {},
   "outputs": [
    {
     "data": {
      "text/html": [
       "<div>\n",
       "<style scoped>\n",
       "    .dataframe tbody tr th:only-of-type {\n",
       "        vertical-align: middle;\n",
       "    }\n",
       "\n",
       "    .dataframe tbody tr th {\n",
       "        vertical-align: top;\n",
       "    }\n",
       "\n",
       "    .dataframe thead th {\n",
       "        text-align: right;\n",
       "    }\n",
       "</style>\n",
       "<table border=\"1\" class=\"dataframe\">\n",
       "  <thead>\n",
       "    <tr style=\"text-align: right;\">\n",
       "      <th></th>\n",
       "      <th>AgeuponOutcome</th>\n",
       "      <th>Month</th>\n",
       "      <th>DayOfWeek</th>\n",
       "      <th>Hour</th>\n",
       "      <th>AnimalType_Cat</th>\n",
       "      <th>AnimalType_Dog</th>\n",
       "      <th>Sex_female</th>\n",
       "      <th>Sex_male</th>\n",
       "      <th>Neutered_intact</th>\n",
       "      <th>Neutered_neutered</th>\n",
       "      <th>...</th>\n",
       "      <th>smoke</th>\n",
       "      <th>tabby</th>\n",
       "      <th>tan</th>\n",
       "      <th>tick</th>\n",
       "      <th>tiger</th>\n",
       "      <th>torbie</th>\n",
       "      <th>tortie</th>\n",
       "      <th>tricolor</th>\n",
       "      <th>white</th>\n",
       "      <th>yellow</th>\n",
       "    </tr>\n",
       "  </thead>\n",
       "  <tbody>\n",
       "    <tr>\n",
       "      <th>0</th>\n",
       "      <td>12</td>\n",
       "      <td>2</td>\n",
       "      <td>0</td>\n",
       "      <td>18</td>\n",
       "      <td>0</td>\n",
       "      <td>1</td>\n",
       "      <td>0</td>\n",
       "      <td>1</td>\n",
       "      <td>0</td>\n",
       "      <td>1</td>\n",
       "      <td>...</td>\n",
       "      <td>0</td>\n",
       "      <td>0</td>\n",
       "      <td>0</td>\n",
       "      <td>0</td>\n",
       "      <td>0</td>\n",
       "      <td>0</td>\n",
       "      <td>0</td>\n",
       "      <td>0</td>\n",
       "      <td>1</td>\n",
       "      <td>0</td>\n",
       "    </tr>\n",
       "    <tr>\n",
       "      <th>1</th>\n",
       "      <td>12</td>\n",
       "      <td>10</td>\n",
       "      <td>1</td>\n",
       "      <td>12</td>\n",
       "      <td>1</td>\n",
       "      <td>0</td>\n",
       "      <td>1</td>\n",
       "      <td>0</td>\n",
       "      <td>0</td>\n",
       "      <td>1</td>\n",
       "      <td>...</td>\n",
       "      <td>0</td>\n",
       "      <td>1</td>\n",
       "      <td>0</td>\n",
       "      <td>0</td>\n",
       "      <td>0</td>\n",
       "      <td>0</td>\n",
       "      <td>0</td>\n",
       "      <td>0</td>\n",
       "      <td>0</td>\n",
       "      <td>0</td>\n",
       "    </tr>\n",
       "    <tr>\n",
       "      <th>2</th>\n",
       "      <td>24</td>\n",
       "      <td>1</td>\n",
       "      <td>1</td>\n",
       "      <td>12</td>\n",
       "      <td>0</td>\n",
       "      <td>1</td>\n",
       "      <td>0</td>\n",
       "      <td>1</td>\n",
       "      <td>0</td>\n",
       "      <td>1</td>\n",
       "      <td>...</td>\n",
       "      <td>0</td>\n",
       "      <td>0</td>\n",
       "      <td>0</td>\n",
       "      <td>0</td>\n",
       "      <td>0</td>\n",
       "      <td>0</td>\n",
       "      <td>0</td>\n",
       "      <td>0</td>\n",
       "      <td>1</td>\n",
       "      <td>0</td>\n",
       "    </tr>\n",
       "    <tr>\n",
       "      <th>3</th>\n",
       "      <td>0</td>\n",
       "      <td>7</td>\n",
       "      <td>0</td>\n",
       "      <td>19</td>\n",
       "      <td>1</td>\n",
       "      <td>0</td>\n",
       "      <td>0</td>\n",
       "      <td>1</td>\n",
       "      <td>1</td>\n",
       "      <td>0</td>\n",
       "      <td>...</td>\n",
       "      <td>0</td>\n",
       "      <td>0</td>\n",
       "      <td>0</td>\n",
       "      <td>0</td>\n",
       "      <td>0</td>\n",
       "      <td>0</td>\n",
       "      <td>0</td>\n",
       "      <td>0</td>\n",
       "      <td>0</td>\n",
       "      <td>0</td>\n",
       "    </tr>\n",
       "    <tr>\n",
       "      <th>4</th>\n",
       "      <td>24</td>\n",
       "      <td>11</td>\n",
       "      <td>0</td>\n",
       "      <td>12</td>\n",
       "      <td>0</td>\n",
       "      <td>1</td>\n",
       "      <td>0</td>\n",
       "      <td>1</td>\n",
       "      <td>0</td>\n",
       "      <td>1</td>\n",
       "      <td>...</td>\n",
       "      <td>0</td>\n",
       "      <td>0</td>\n",
       "      <td>1</td>\n",
       "      <td>0</td>\n",
       "      <td>0</td>\n",
       "      <td>0</td>\n",
       "      <td>0</td>\n",
       "      <td>0</td>\n",
       "      <td>0</td>\n",
       "      <td>0</td>\n",
       "    </tr>\n",
       "  </tbody>\n",
       "</table>\n",
       "<p>5 rows × 308 columns</p>\n",
       "</div>"
      ],
      "text/plain": [
       "   AgeuponOutcome  Month  DayOfWeek  Hour  AnimalType_Cat  AnimalType_Dog  \\\n",
       "0              12      2          0    18               0               1   \n",
       "1              12     10          1    12               1               0   \n",
       "2              24      1          1    12               0               1   \n",
       "3               0      7          0    19               1               0   \n",
       "4              24     11          0    12               0               1   \n",
       "\n",
       "   Sex_female  Sex_male  Neutered_intact  Neutered_neutered  ...  smoke  \\\n",
       "0           0         1                0                  1  ...      0   \n",
       "1           1         0                0                  1  ...      0   \n",
       "2           0         1                0                  1  ...      0   \n",
       "3           0         1                1                  0  ...      0   \n",
       "4           0         1                0                  1  ...      0   \n",
       "\n",
       "   tabby  tan  tick  tiger  torbie  tortie  tricolor  white  yellow  \n",
       "0      0    0     0      0       0       0         0      1       0  \n",
       "1      1    0     0      0       0       0         0      0       0  \n",
       "2      0    0     0      0       0       0         0      1       0  \n",
       "3      0    0     0      0       0       0         0      0       0  \n",
       "4      0    1     0      0       0       0         0      0       0  \n",
       "\n",
       "[5 rows x 308 columns]"
      ]
     },
     "execution_count": 240,
     "metadata": {},
     "output_type": "execute_result"
    }
   ],
   "source": [
    "X.head()"
   ]
  },
  {
   "cell_type": "markdown",
   "id": "69551fb3-4ed1-4db7-adc1-ac8bc7a35c3b",
   "metadata": {},
   "source": [
    "## Data Scaling"
   ]
  },
  {
   "cell_type": "code",
   "execution_count": 241,
   "id": "4bb47d98-a363-4041-b102-fc84a66dd6f2",
   "metadata": {},
   "outputs": [],
   "source": [
    "from sklearn.preprocessing import StandardScaler\n",
    "sc = StandardScaler()\n",
    "scale_train = sc.fit_transform(X)\n",
    "#scale_test = sc.transform(X)"
   ]
  },
  {
   "cell_type": "markdown",
   "id": "e92b9132-ba07-4c73-a6e3-dc65d2693e26",
   "metadata": {},
   "source": [
    "## Model Selection"
   ]
  },
  {
   "cell_type": "code",
   "execution_count": 242,
   "id": "8464a07d-e68e-44aa-b6f0-237639bc3587",
   "metadata": {},
   "outputs": [],
   "source": [
    "X_train, X_test, Y_train, Y_test = train_test_split(scale_train, Y, test_size=0.3, random_state=0)"
   ]
  },
  {
   "cell_type": "code",
   "execution_count": 152,
   "id": "4f6d52d4-861a-458d-810b-f9878e761f08",
   "metadata": {},
   "outputs": [],
   "source": [
    "classifiers = [\n",
    "    DecisionTreeClassifier(),\n",
    "    RandomForestClassifier(),\n",
    "    AdaBoostClassifier(),\n",
    "    GradientBoostingClassifier(),\n",
    "]"
   ]
  },
  {
   "cell_type": "code",
   "execution_count": 153,
   "id": "eeeadb68-61fc-4385-8015-a804724adb67",
   "metadata": {},
   "outputs": [
    {
     "data": {
      "image/png": "[encoded data removed]",
      "text/plain": [
       "<Figure size 432x288 with 1 Axes>"
      ]
     },
     "metadata": {
      "needs_background": "light"
     },
     "output_type": "display_data"
    }
   ],
   "source": [
    "fig, ax = plt.subplots()\n",
    "\n",
    "model_displays = {}\n",
    "for clf in classifiers:\n",
    "    clf.fit(X_train, Y_train)\n",
    "    name = type(clf).__name__\n",
    "    model_displays[type(clf).__name__] = plot_roc_curve(\n",
    "        clf, X_train, Y_train, ax=ax, name=name)\n",
    "_ = ax.set_title('ROC curve')"
   ]
  },
  {
   "cell_type": "code",
   "execution_count": 154,
   "id": "83543603-a743-4907-a16b-89e401c4125a",
   "metadata": {},
   "outputs": [
    {
     "name": "stdout",
     "output_type": "stream",
     "text": [
      "\n",
      "DecisionTreeClassifier:\n",
      "              precision    recall  f1-score   support\n",
      "\n",
      "    Adoption       0.69      0.68      0.68      3280\n",
      " Not_adopted       0.76      0.77      0.77      4407\n",
      "\n",
      "    accuracy                           0.73      7687\n",
      "   macro avg       0.73      0.72      0.73      7687\n",
      "weighted avg       0.73      0.73      0.73      7687\n",
      "\n",
      "[[2215 1065]\n",
      " [ 993 3414]]\n",
      "\n",
      "RandomForestClassifier:\n",
      "              precision    recall  f1-score   support\n",
      "\n",
      "    Adoption       0.73      0.71      0.72      3280\n",
      " Not_adopted       0.79      0.81      0.80      4407\n",
      "\n",
      "    accuracy                           0.77      7687\n",
      "   macro avg       0.76      0.76      0.76      7687\n",
      "weighted avg       0.77      0.77      0.77      7687\n",
      "\n",
      "[[2330  950]\n",
      " [ 847 3560]]\n",
      "\n",
      "AdaBoostClassifier:\n",
      "              precision    recall  f1-score   support\n",
      "\n",
      "    Adoption       0.76      0.70      0.73      3280\n",
      " Not_adopted       0.79      0.83      0.81      4407\n",
      "\n",
      "    accuracy                           0.78      7687\n",
      "   macro avg       0.77      0.77      0.77      7687\n",
      "weighted avg       0.78      0.78      0.78      7687\n",
      "\n",
      "[[2309  971]\n",
      " [ 749 3658]]\n",
      "\n",
      "GradientBoostingClassifier:\n",
      "              precision    recall  f1-score   support\n",
      "\n",
      "    Adoption       0.76      0.71      0.74      3280\n",
      " Not_adopted       0.80      0.84      0.82      4407\n",
      "\n",
      "    accuracy                           0.78      7687\n",
      "   macro avg       0.78      0.78      0.78      7687\n",
      "weighted avg       0.78      0.78      0.78      7687\n",
      "\n",
      "[[2343  937]\n",
      " [ 724 3683]]\n"
     ]
    }
   ],
   "source": [
    "potential_model = ['DecisionTreeClassifier', 'RandomForestClassifier', 'AdaBoostClassifier', 'GradientBoostingClassifier']\n",
    "for clf in classifiers:\n",
    "    name = type(clf).__name__\n",
    "    if name in potential_model:\n",
    "        predictions =clf.predict(X_test)\n",
    "        cm = confusion_matrix(Y_test, predictions, labels=clf.classes_)\n",
    "        cr = classification_report(y_true=Y_test, \n",
    "                                   y_pred=predictions,\n",
    "                                   target_names=Y_encoder.classes_)\n",
    "        disp = ConfusionMatrixDisplay(confusion_matrix=cm, display_labels=clf.classes_)\n",
    "        print(f\"\\n{name}:\\n{cr}\")\n",
    "        print(f\"{cm}\")"
   ]
  },
  {
   "cell_type": "code",
   "execution_count": null,
   "id": "c2b9b985-decb-461e-bcc1-8c4118b7fd2d",
   "metadata": {},
   "outputs": [],
   "source": []
  },
  {
   "cell_type": "code",
   "execution_count": 69,
   "id": "34811d2f-5998-4b38-b50c-d74b40a01769",
   "metadata": {},
   "outputs": [],
   "source": [
    "rfc=RandomForestClassifier(random_state=42)"
   ]
  },
  {
   "cell_type": "code",
   "execution_count": 70,
   "id": "87c59369-7761-4aba-931d-0517a6576195",
   "metadata": {},
   "outputs": [
    {
     "name": "stderr",
     "output_type": "stream",
     "text": [
      "D:\\games\\Conda\\lib\\site-packages\\sklearn\\model_selection\\_search.py:285: UserWarning: The total space of parameters 60 is smaller than n_iter=100. Running 60 iterations. For exhaustive searches, use GridSearchCV.\n",
      "  warnings.warn(\n"
     ]
    },
    {
     "data": {
      "text/plain": [
       "RandomizedSearchCV(cv=3, estimator=RandomForestClassifier(random_state=42),\n",
       "                   n_iter=100,\n",
       "                   param_distributions={'criterion': ['gini', 'entropy'],\n",
       "                                        'max_depth': [4, 5, 6, 7, 8],\n",
       "                                        'max_features': ['auto', 'sqrt',\n",
       "                                                         'log2'],\n",
       "                                        'n_estimators': [200, 500]},\n",
       "                   random_state=42)"
      ]
     },
     "execution_count": 70,
     "metadata": {},
     "output_type": "execute_result"
    }
   ],
   "source": [
    "param_grid = { \n",
    "    'n_estimators': [200, 500],\n",
    "    'max_features': ['auto', 'sqrt', 'log2'],\n",
    "    'max_depth' : [4,5,6,7,8],\n",
    "    'criterion' :['gini', 'entropy']\n",
    "}\n",
    "\n",
    "#from sklearn.ensemble import RandomForestRegressor\n",
    "rf_random = RandomizedSearchCV(estimator = rfc, param_distributions = param_grid, n_iter = 100, cv = 3, random_state=42)\n",
    "rf_random.fit(X_train, Y_train)"
   ]
  },
  {
   "cell_type": "markdown",
   "id": "0e7d4430-1e04-4b42-81cc-3e5e12057aa1",
   "metadata": {},
   "source": [
    "CV_rfc = GridSearchCV(estimator=rfc, param_grid=param_grid, cv= 5)\n",
    "CV_rfc.fit(X_train, Y_train)"
   ]
  },
  {
   "cell_type": "code",
   "execution_count": 71,
   "id": "ce88e901-b869-46ee-87bb-28bf6606985c",
   "metadata": {},
   "outputs": [
    {
     "data": {
      "text/plain": [
       "{'n_estimators': 500,\n",
       " 'max_features': 'auto',\n",
       " 'max_depth': 8,\n",
       " 'criterion': 'entropy'}"
      ]
     },
     "execution_count": 71,
     "metadata": {},
     "output_type": "execute_result"
    }
   ],
   "source": [
    "rf_random.best_params_"
   ]
  },
  {
   "cell_type": "code",
   "execution_count": 72,
   "id": "c07c756f-6830-4a2b-aa5b-16a574ad9d90",
   "metadata": {},
   "outputs": [
    {
     "data": {
      "text/plain": [
       "0.7629084420653508"
      ]
     },
     "execution_count": 72,
     "metadata": {},
     "output_type": "execute_result"
    }
   ],
   "source": [
    "rf_random.best_score_"
   ]
  },
  {
   "cell_type": "code",
   "execution_count": 73,
   "id": "a51133e2-9124-4055-a350-7d1fad41b2b5",
   "metadata": {},
   "outputs": [
    {
     "data": {
      "text/plain": [
       "RandomForestClassifier(criterion='entropy', max_depth=8, n_estimators=500,\n",
       "                       random_state=42)"
      ]
     },
     "execution_count": 73,
     "metadata": {},
     "output_type": "execute_result"
    }
   ],
   "source": [
    "rf_random.best_estimator_"
   ]
  },
  {
   "cell_type": "code",
   "execution_count": 243,
   "id": "e4cf20f8-3501-45b0-8e6f-7b55ea439e3b",
   "metadata": {},
   "outputs": [],
   "source": [
    "clf=RandomForestClassifier(criterion='entropy', max_depth=8, n_estimators=500,\n",
    "                       random_state=42)"
   ]
  },
  {
   "cell_type": "code",
   "execution_count": 244,
   "id": "8e1299a2-20c7-4b30-af65-8f4fda810d51",
   "metadata": {},
   "outputs": [
    {
     "name": "stdout",
     "output_type": "stream",
     "text": [
      "\n",
      "              precision    recall  f1-score   support\n",
      "\n",
      "    Adoption       0.73      0.66      0.70      3280\n",
      " Not_adopted       0.77      0.82      0.79      4407\n",
      "\n",
      "    accuracy                           0.75      7687\n",
      "   macro avg       0.75      0.74      0.74      7687\n",
      "weighted avg       0.75      0.75      0.75      7687\n",
      "\n",
      "[[2176 1104]\n",
      " [ 798 3609]]\n"
     ]
    }
   ],
   "source": [
    "clf.fit(X_train, Y_train)\n",
    "predictions =clf.predict(X_test)\n",
    "cm = confusion_matrix(Y_test, predictions, labels=clf.classes_)\n",
    "cr = classification_report(y_true=Y_test, \n",
    "                            y_pred=predictions,\n",
    "                            target_names=Y_encoder.classes_)\n",
    "disp = ConfusionMatrixDisplay(confusion_matrix=cm, display_labels=clf.classes_)\n",
    "print(f\"\\n{cr}\")\n",
    "print(f\"{cm}\")"
   ]
  },
  {
   "cell_type": "code",
   "execution_count": null,
   "id": "c7bf8d69-2f94-4f9c-87f8-157b074baba9",
   "metadata": {},
   "outputs": [],
   "source": []
  },
  {
   "cell_type": "code",
   "execution_count": 245,
   "id": "32016499-8520-43f1-a533-d43b335f0dad",
   "metadata": {},
   "outputs": [],
   "source": [
    "with open(\"model.bin\", 'wb') as f_out:\n",
    "    pickle.dump(clf, f_out) # write final_model in .bin file\n",
    "    f_out.close()  # close the file"
   ]
  },
  {
   "cell_type": "code",
   "execution_count": null,
   "id": "b78203f1-3d24-4fca-9b59-2a3c49a4e772",
   "metadata": {},
   "outputs": [],
   "source": []
  },
  {
   "cell_type": "code",
   "execution_count": 246,
   "id": "e8fefc0d-d76a-40ae-b212-d658da9dfdd9",
   "metadata": {},
   "outputs": [],
   "source": [
    "def data_tranformer(data):\n",
    "    data = data.drop(['ID','Name'], axis=1)\n",
    "    data['SexuponOutcome'].replace(to_replace=['Unknown'], value=[np.nan], inplace = True)\n",
    "    data.dropna(subset=['AgeuponOutcome','SexuponOutcome'], inplace=True)\n",
    "    data[\"DateTime\"]=pd.to_datetime(data[\"DateTime\"])\n",
    "    data[\"Month\"] = data[\"DateTime\"].dt.month\n",
    "    data[\"DayOfWeek\"] = data[\"DateTime\"].dt.dayofweek\n",
    "    data[\"Hour\"] = data[\"DateTime\"].dt.hour\n",
    "    data= data.drop(['DateTime'], axis=1)\n",
    "    data['DayOfWeek'] = data.DayOfWeek.apply(day)\n",
    "    data = to_month(data, 'AgeuponOutcome')\n",
    "    data['Sex'] = data.SexuponOutcome.apply(get_sex)\n",
    "    data['Neutered'] = data.SexuponOutcome.apply(get_neutered)\n",
    "    data = data.drop(['SexuponOutcome'],axis = 1)\n",
    "    data = pure_text(data, 'Breed')\n",
    "    data = pure_text(data, 'Color')\n",
    "    data.reset_index(drop= True , inplace= True )\n",
    "    bag_of_words = color_vectorizer.transform(data['Color'])\n",
    "    bag_of_color = pd.DataFrame(bag_of_words.toarray(), columns = color_vectorizer.get_feature_names())\n",
    "    bag_of_words = breed_vectorizer.transform(data['Breed'])\n",
    "    bag_of_breed = pd.DataFrame(bag_of_words.toarray(), columns = breed_vectorizer.get_feature_names())\n",
    "    data = Encode(data,[],oe,le)\n",
    "    data = pd.concat([data, bag_of_breed,bag_of_color], axis=1)\n",
    "    data = data.drop(['Breed','Color'], axis = 1)\n",
    "    data['AgeuponOutcome'] = data.AgeuponOutcome.apply(age_category)\n",
    "    scale_test = sc.transform(data)\n",
    "    return scale_test"
   ]
  },
  {
   "cell_type": "code",
   "execution_count": 269,
   "id": "2b546149-ef08-4b0d-ae28-979a581a18d9",
   "metadata": {},
   "outputs": [
    {
     "name": "stdout",
     "output_type": "stream",
     "text": [
      "{'usual_day': 0, 'weekend': 1}\n"
     ]
    }
   ],
   "source": [
    "keys = labelencoder.classes_\n",
    "values = labelencoder.transform(labelencoder.classes_)\n",
    "dictionary = dict(zip(keys, values))\n",
    "print(dictionary)"
   ]
  },
  {
   "cell_type": "code",
   "execution_count": 287,
   "id": "d4f7c35e-04b2-4d4d-ba69-418c61c872d8",
   "metadata": {},
   "outputs": [
    {
     "data": {
      "text/plain": [
       "dict_keys(['usual_day', 'weekend'])"
      ]
     },
     "execution_count": 287,
     "metadata": {},
     "output_type": "execute_result"
    }
   ],
   "source": [
    "dictionary.keys()"
   ]
  },
  {
   "cell_type": "code",
   "execution_count": 295,
   "id": "4b007e6c-2379-4bfe-9aa8-5fae861fddd6",
   "metadata": {},
   "outputs": [],
   "source": [
    "def preprocess_le_cols(df):\n",
    "    df[\"DayOfWeek\"] = df[\"DayOfWeek\"].map(dictionary)    \n",
    "    return df"
   ]
  },
  {
   "cell_type": "code",
   "execution_count": 296,
   "id": "e51b080a-89c2-45e9-bf27-7af5667825b3",
   "metadata": {},
   "outputs": [
    {
     "ename": "AttributeError",
     "evalue": "get_params not found",
     "output_type": "error",
     "traceback": [
      "\u001b[1;31m---------------------------------------------------------------------------\u001b[0m",
      "\u001b[1;31mAttributeError\u001b[0m                            Traceback (most recent call last)",
      "\u001b[1;32m<ipython-input-296-0db4a74856db>\u001b[0m in \u001b[0;36m<module>\u001b[1;34m\u001b[0m\n\u001b[1;32m----> 1\u001b[1;33m \u001b[0mbag_of_words\u001b[0m\u001b[1;33m.\u001b[0m\u001b[0mget_params\u001b[0m\u001b[1;33m(\u001b[0m\u001b[1;33m)\u001b[0m\u001b[1;33m\u001b[0m\u001b[1;33m\u001b[0m\u001b[0m\n\u001b[0m",
      "\u001b[1;32mD:\\games\\Conda\\lib\\site-packages\\scipy\\sparse\\base.py\u001b[0m in \u001b[0;36m__getattr__\u001b[1;34m(self, attr)\u001b[0m\n\u001b[0;32m    685\u001b[0m             \u001b[1;32mreturn\u001b[0m \u001b[0mself\u001b[0m\u001b[1;33m.\u001b[0m\u001b[0mgetnnz\u001b[0m\u001b[1;33m(\u001b[0m\u001b[1;33m)\u001b[0m\u001b[1;33m\u001b[0m\u001b[1;33m\u001b[0m\u001b[0m\n\u001b[0;32m    686\u001b[0m         \u001b[1;32melse\u001b[0m\u001b[1;33m:\u001b[0m\u001b[1;33m\u001b[0m\u001b[1;33m\u001b[0m\u001b[0m\n\u001b[1;32m--> 687\u001b[1;33m             \u001b[1;32mraise\u001b[0m \u001b[0mAttributeError\u001b[0m\u001b[1;33m(\u001b[0m\u001b[0mattr\u001b[0m \u001b[1;33m+\u001b[0m \u001b[1;34m\" not found\"\u001b[0m\u001b[1;33m)\u001b[0m\u001b[1;33m\u001b[0m\u001b[1;33m\u001b[0m\u001b[0m\n\u001b[0m\u001b[0;32m    688\u001b[0m \u001b[1;33m\u001b[0m\u001b[0m\n\u001b[0;32m    689\u001b[0m     \u001b[1;32mdef\u001b[0m \u001b[0mtranspose\u001b[0m\u001b[1;33m(\u001b[0m\u001b[0mself\u001b[0m\u001b[1;33m,\u001b[0m \u001b[0maxes\u001b[0m\u001b[1;33m=\u001b[0m\u001b[1;32mNone\u001b[0m\u001b[1;33m,\u001b[0m \u001b[0mcopy\u001b[0m\u001b[1;33m=\u001b[0m\u001b[1;32mFalse\u001b[0m\u001b[1;33m)\u001b[0m\u001b[1;33m:\u001b[0m\u001b[1;33m\u001b[0m\u001b[1;33m\u001b[0m\u001b[0m\n",
      "\u001b[1;31mAttributeError\u001b[0m: get_params not found"
     ]
    }
   ],
   "source": [
    "bag_of_words.get_params()"
   ]
  },
  {
   "cell_type": "code",
   "execution_count": 294,
   "id": "14bdfaa5-a10b-4e8d-8094-219c63109826",
   "metadata": {},
   "outputs": [
    {
     "data": {
      "text/plain": [
       "dict_keys([])"
      ]
     },
     "execution_count": 294,
     "metadata": {},
     "output_type": "execute_result"
    }
   ],
   "source": []
  },
  {
   "cell_type": "code",
   "execution_count": 247,
   "id": "0d21917e-cee3-4344-a04d-a147b266da9b",
   "metadata": {},
   "outputs": [],
   "source": [
    "with open('model.bin', 'rb') as f_in:\n",
    "    model = pickle.load(f_in)"
   ]
  },
  {
   "cell_type": "code",
   "execution_count": 248,
   "id": "3e71c1a9-8cb4-4917-b83f-d23c9e612d7f",
   "metadata": {},
   "outputs": [],
   "source": [
    "test = data_tranformer(test)"
   ]
  },
  {
   "cell_type": "code",
   "execution_count": 251,
   "id": "f612a62e-5170-43ce-864a-61616f3a52f0",
   "metadata": {},
   "outputs": [],
   "source": [
    "y_pred = model.predict(test)"
   ]
  },
  {
   "cell_type": "code",
   "execution_count": 252,
   "id": "a313f0a7-d9cc-48f2-846f-1c0ead46b3a1",
   "metadata": {},
   "outputs": [
    {
     "data": {
      "text/plain": [
       "array([1, 1, 1, ..., 1, 0, 1])"
      ]
     },
     "execution_count": 252,
     "metadata": {},
     "output_type": "execute_result"
    }
   ],
   "source": [
    "y_pred"
   ]
  },
  {
   "cell_type": "markdown",
   "id": "cf6a74e2-39af-4c03-a0a4-73a73b77febe",
   "metadata": {},
   "source": [
    "## Multiclass classification"
   ]
  },
  {
   "cell_type": "markdown",
   "id": "63a612c2-713a-40b9-b2af-300db0bd42f2",
   "metadata": {},
   "source": [
    "I also was trying multiclass classification, but can't resive good enough scores."
   ]
  },
  {
   "cell_type": "code",
   "execution_count": 76,
   "id": "e533207f-76bb-4144-ace3-c156d9cf112f",
   "metadata": {},
   "outputs": [],
   "source": [
    "classifiers1 = [\n",
    "    KNeighborsClassifier(),\n",
    "    DecisionTreeClassifier(),\n",
    "    ExtraTreeClassifier(),\n",
    "    GaussianNB(),\n",
    "    BernoulliNB(),\n",
    "    LogisticRegression(multi_class='multinomial'),\n",
    "    LogisticRegressionCV(multi_class='multinomial'),\n",
    "    LinearSVC(multi_class='crammer_singer')\n",
    "]"
   ]
  },
  {
   "cell_type": "code",
   "execution_count": 82,
   "id": "3fa01a76-65d9-4bf3-b168-ce636be2d3de",
   "metadata": {},
   "outputs": [],
   "source": [
    "Y_mul = Y_encoder.fit_transform(Y_mul)"
   ]
  },
  {
   "cell_type": "code",
   "execution_count": 83,
   "id": "b326f178-a238-48a5-a64f-48d98b619258",
   "metadata": {},
   "outputs": [],
   "source": [
    "X_train, X_test, Y_train, Y_test = train_test_split(scale_train, Y_mul, test_size=0.3, random_state=0)"
   ]
  },
  {
   "cell_type": "code",
   "execution_count": 84,
   "id": "ad23279d-9bb0-4c51-af2e-663472f6987b",
   "metadata": {},
   "outputs": [
    {
     "name": "stdout",
     "output_type": "stream",
     "text": [
      "\n",
      "KNeighborsClassifier:\n",
      "                 precision    recall  f1-score   support\n",
      "\n",
      "       Adoption       0.59      0.78      0.67      3280\n",
      "           Died       0.26      0.09      0.13       504\n",
      "Return_to_owner       0.37      0.30      0.33      1393\n",
      "       Transfer       0.66      0.54      0.59      2510\n",
      "\n",
      "       accuracy                           0.57      7687\n",
      "      macro avg       0.47      0.43      0.43      7687\n",
      "   weighted avg       0.55      0.57      0.55      7687\n",
      "\n",
      "[[2557   18  385  320]\n",
      " [ 173   46   87  198]\n",
      " [ 752   32  422  187]\n",
      " [ 825   84  258 1343]]\n",
      "\n",
      "DecisionTreeClassifier:\n",
      "                 precision    recall  f1-score   support\n",
      "\n",
      "       Adoption       0.69      0.67      0.68      3280\n",
      "           Died       0.24      0.23      0.23       504\n",
      "Return_to_owner       0.38      0.40      0.39      1393\n",
      "       Transfer       0.63      0.63      0.63      2510\n",
      "\n",
      "       accuracy                           0.58      7687\n",
      "      macro avg       0.48      0.48      0.48      7687\n",
      "   weighted avg       0.58      0.58      0.58      7687\n",
      "\n",
      "[[2204   86  514  476]\n",
      " [  79  114  112  199]\n",
      " [ 480   89  555  269]\n",
      " [ 452  183  293 1582]]\n",
      "\n",
      "ExtraTreeClassifier:\n",
      "                 precision    recall  f1-score   support\n",
      "\n",
      "       Adoption       0.64      0.64      0.64      3280\n",
      "           Died       0.19      0.17      0.18       504\n",
      "Return_to_owner       0.34      0.36      0.35      1393\n",
      "       Transfer       0.57      0.57      0.57      2510\n",
      "\n",
      "       accuracy                           0.54      7687\n",
      "      macro avg       0.44      0.44      0.44      7687\n",
      "   weighted avg       0.54      0.54      0.54      7687\n",
      "\n",
      "[[2107   93  523  557]\n",
      " [ 107   85   94  218]\n",
      " [ 513   80  498  302]\n",
      " [ 540  197  336 1437]]\n",
      "\n",
      "GaussianNB:\n",
      "                 precision    recall  f1-score   support\n",
      "\n",
      "       Adoption       0.51      0.01      0.02      3280\n",
      "           Died       0.07      0.97      0.12       504\n",
      "Return_to_owner       0.27      0.05      0.08      1393\n",
      "       Transfer       0.46      0.01      0.02      2510\n",
      "\n",
      "       accuracy                           0.08      7687\n",
      "      macro avg       0.33      0.26      0.06      7687\n",
      "   weighted avg       0.42      0.08      0.04      7687\n",
      "\n",
      "[[  35 3117  110   18]\n",
      " [   2  488   10    4]\n",
      " [  15 1303   64   11]\n",
      " [  17 2410   55   28]]\n",
      "\n",
      "BernoulliNB:\n",
      "                 precision    recall  f1-score   support\n",
      "\n",
      "       Adoption       0.71      0.47      0.57      3280\n",
      "           Died       0.22      0.08      0.12       504\n",
      "Return_to_owner       0.31      0.68      0.43      1393\n",
      "       Transfer       0.62      0.56      0.59      2510\n",
      "\n",
      "       accuracy                           0.51      7687\n",
      "      macro avg       0.47      0.45      0.43      7687\n",
      "   weighted avg       0.58      0.51      0.52      7687\n",
      "\n",
      "[[1553    8 1209  510]\n",
      " [  35   40  192  237]\n",
      " [ 271   47  945  130]\n",
      " [ 315   84  696 1415]]\n"
     ]
    },
    {
     "name": "stderr",
     "output_type": "stream",
     "text": [
      "D:\\games\\Conda\\lib\\site-packages\\sklearn\\linear_model\\_logistic.py:763: ConvergenceWarning: lbfgs failed to converge (status=1):\n",
      "STOP: TOTAL NO. of ITERATIONS REACHED LIMIT.\n",
      "\n",
      "Increase the number of iterations (max_iter) or scale the data as shown in:\n",
      "    https://scikit-learn.org/stable/modules/preprocessing.html\n",
      "Please also refer to the documentation for alternative solver options:\n",
      "    https://scikit-learn.org/stable/modules/linear_model.html#logistic-regression\n",
      "  n_iter_i = _check_optimize_result(\n"
     ]
    },
    {
     "name": "stdout",
     "output_type": "stream",
     "text": [
      "\n",
      "LogisticRegression:\n",
      "                 precision    recall  f1-score   support\n",
      "\n",
      "       Adoption       0.65      0.85      0.73      3280\n",
      "           Died       0.38      0.08      0.14       504\n",
      "Return_to_owner       0.47      0.33      0.39      1393\n",
      "       Transfer       0.68      0.62      0.65      2510\n",
      "\n",
      "       accuracy                           0.63      7687\n",
      "      macro avg       0.54      0.47      0.48      7687\n",
      "   weighted avg       0.61      0.63      0.60      7687\n",
      "\n",
      "[[2777    6  268  229]\n",
      " [  87   42   84  291]\n",
      " [ 686   32  465  210]\n",
      " [ 752   30  181 1547]]\n",
      "\n",
      "LinearSVC:\n",
      "                 precision    recall  f1-score   support\n",
      "\n",
      "       Adoption       0.61      0.91      0.73      3280\n",
      "           Died       0.02      0.00      0.00       504\n",
      "Return_to_owner       0.43      0.20      0.28      1393\n",
      "       Transfer       0.68      0.58      0.63      2510\n",
      "\n",
      "       accuracy                           0.61      7687\n",
      "      macro avg       0.44      0.42      0.41      7687\n",
      "   weighted avg       0.56      0.61      0.57      7687\n",
      "\n",
      "[[2976   13  156  135]\n",
      " [ 118    1   73  312]\n",
      " [ 851   19  281  242]\n",
      " [ 902   14  137 1457]]\n"
     ]
    },
    {
     "name": "stderr",
     "output_type": "stream",
     "text": [
      "D:\\games\\Conda\\lib\\site-packages\\sklearn\\svm\\_base.py:985: ConvergenceWarning: Liblinear failed to converge, increase the number of iterations.\n",
      "  warnings.warn(\"Liblinear failed to converge, increase \"\n"
     ]
    }
   ],
   "source": [
    "potential_model = ['KNeighborsClassifier','DecisionTreeClassifier','ExtraTreeClassifier','GaussianNB',\n",
    "                   'BernoulliNB','LogisticRegression','LinearSVC']\n",
    "for clf in classifiers1:\n",
    "    name = type(clf).__name__\n",
    "    if name in potential_model:\n",
    "        clf.fit(X_train, Y_train)\n",
    "        predictions =clf.predict(X_test)\n",
    "        cm = confusion_matrix(Y_test, predictions, labels=clf.classes_)\n",
    "        cr = classification_report(y_true=Y_test, \n",
    "                                   y_pred=predictions,\n",
    "                                   target_names=Y_encoder.classes_)\n",
    "        disp = ConfusionMatrixDisplay(confusion_matrix=cm, display_labels=clf.classes_)\n",
    "        print(f\"\\n{name}:\\n{cr}\")\n",
    "        print(f\"{cm}\")"
   ]
  },
  {
   "cell_type": "code",
   "execution_count": 85,
   "id": "74a282a4-fc16-4623-a320-5e1c753c3e3b",
   "metadata": {},
   "outputs": [
    {
     "data": {
      "text/plain": [
       "RandomForestClassifier(criterion='entropy', n_estimators=30, random_state=0)"
      ]
     },
     "execution_count": 85,
     "metadata": {},
     "output_type": "execute_result"
    }
   ],
   "source": [
    "from sklearn.ensemble import RandomForestClassifier\n",
    "classifier = RandomForestClassifier(n_estimators = 30, criterion = 'entropy', random_state = 0)\n",
    "classifier.fit(X_train, Y_train)"
   ]
  },
  {
   "cell_type": "code",
   "execution_count": 86,
   "id": "ec3fe3cc-d73e-4b91-b29f-af2355e0192d",
   "metadata": {},
   "outputs": [
    {
     "name": "stdout",
     "output_type": "stream",
     "text": [
      "[[2600   21  358  301]\n",
      " [  91   54  107  252]\n",
      " [ 609   28  516  240]\n",
      " [ 571   55  235 1649]]\n"
     ]
    }
   ],
   "source": [
    "# Predicting the Test set results\n",
    "y_pred = classifier.predict(X_test)\n",
    "y_prob = classifier.predict_proba(X_test)\n",
    "# Making the Confusion Matrix\n",
    "from sklearn.metrics import confusion_matrix\n",
    "cm = confusion_matrix(Y_test, y_pred)  \n",
    "print(cm)"
   ]
  },
  {
   "cell_type": "code",
   "execution_count": 87,
   "id": "128e9975-b69a-456e-9ba3-c7b4eb0e904f",
   "metadata": {},
   "outputs": [
    {
     "name": "stdout",
     "output_type": "stream",
     "text": [
      "0.6247911331133523\n",
      "0.008147807616580243\n"
     ]
    }
   ],
   "source": [
    "# Applying k-Fold Cross Validation\n",
    "from sklearn.model_selection import cross_val_score\n",
    "accuracies = cross_val_score(estimator = classifier, X = X_train, y = Y_train, cv = 10)\n",
    "print(accuracies.mean())\n",
    "print(accuracies.std())"
   ]
  },
  {
   "cell_type": "markdown",
   "id": "e226a9f7-3aef-4f96-a4d0-2ba1d9cf924b",
   "metadata": {},
   "source": [
    "Even with Random Forest Classifier it is not good enough. Maybe problem with data, and maybe I don't have enough skills."
   ]
  }
 ],
 "metadata": {
  "kernelspec": {
   "display_name": "Python 3",
   "language": "python",
   "name": "python3"
  },
  "language_info": {
   "codemirror_mode": {
    "name": "ipython",
    "version": 3
   },
   "file_extension": ".py",
   "mimetype": "text/x-python",
   "name": "python",
   "nbconvert_exporter": "python",
   "pygments_lexer": "ipython3",
   "version": "3.8.8"
  }
 },
 "nbformat": 4,
 "nbformat_minor": 5
}
